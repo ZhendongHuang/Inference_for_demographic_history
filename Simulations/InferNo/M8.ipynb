{
 "cells": [
  {
   "cell_type": "code",
   "execution_count": 3,
   "id": "47000db6",
   "metadata": {
    "scrolled": true
   },
   "outputs": [
    {
     "name": "stdout",
     "output_type": "stream",
     "text": [
      "done simulate data 27.349513053894043\n",
      "done compute mu map and mu in length interval 4.0531158447265625e-05\n",
      "done null simulation 26.405161142349243\n",
      "len fretimes 424153\n",
      "len mufreqs 424153\n",
      "4.41498589515686\n",
      "BIC:  3051.062134658746\n",
      "all done\n",
      "all done 0 0.035002946853637695\n",
      "done simulate data 31.18270182609558\n",
      "done compute mu map and mu in length interval 5.14984130859375e-05\n",
      "done null simulation 29.46294331550598\n",
      "len fretimes 423929\n",
      "len mufreqs 423929\n",
      "4.592710971832275\n",
      "BIC:  3804.6511485855413\n",
      "all done\n",
      "all done 1 0.02566051483154297\n",
      "done simulate data 28.02685832977295\n",
      "done compute mu map and mu in length interval 2.6226043701171875e-05\n",
      "done null simulation 28.395209074020386\n",
      "len fretimes 424104\n",
      "len mufreqs 424104\n",
      "4.851467609405518\n",
      "BIC:  3616.6352542894247\n",
      "all done\n",
      "all done 2 0.008717060089111328\n",
      "done simulate data 31.82836675643921\n",
      "done compute mu map and mu in length interval 3.170967102050781e-05\n",
      "done null simulation 28.773275136947632\n",
      "len fretimes 422066\n",
      "len mufreqs 422066\n",
      "4.931959867477417\n",
      "BIC:  2882.6534954437197\n",
      "all done\n",
      "all done 3 0.031169652938842773\n",
      "done simulate data 31.650341987609863\n",
      "done compute mu map and mu in length interval 3.075599670410156e-05\n",
      "done null simulation 31.27848744392395\n",
      "len fretimes 427027\n",
      "len mufreqs 427027\n",
      "5.6347739696502686\n",
      "BIC:  2775.073469172728\n",
      "all done\n",
      "all done 4 0.011556386947631836\n",
      "done simulate data 32.72937560081482\n",
      "done compute mu map and mu in length interval 3.0517578125e-05\n",
      "done null simulation 30.794564247131348\n",
      "len fretimes 422711\n",
      "len mufreqs 422711\n",
      "5.119670867919922\n",
      "BIC:  2538.1063648125205\n",
      "all done\n",
      "all done 5 0.009982585906982422\n",
      "done simulate data 31.294370889663696\n",
      "done compute mu map and mu in length interval 2.956390380859375e-05\n",
      "done null simulation 27.529524326324463\n",
      "len fretimes 425585\n",
      "len mufreqs 425585\n",
      "4.599889278411865\n",
      "BIC:  3165.1309349911603\n",
      "all done\n",
      "all done 7 0.008483171463012695\n",
      "done simulate data 27.7323157787323\n",
      "done compute mu map and mu in length interval 3.123283386230469e-05\n",
      "done null simulation 25.972281217575073\n",
      "len fretimes 428292\n",
      "len mufreqs 428292\n",
      "4.396883487701416\n",
      "BIC:  3919.852961406538\n",
      "all done\n",
      "all done 8 0.008355140686035156\n",
      "done simulate data 25.682342290878296\n",
      "done compute mu map and mu in length interval 4.744529724121094e-05\n",
      "done null simulation 23.546204566955566\n",
      "len fretimes 424247\n",
      "len mufreqs 424247\n",
      "4.402456998825073\n",
      "BIC:  4596.115978421556\n",
      "all done\n",
      "all done 9 0.01609039306640625\n",
      "done simulate data 25.54260516166687\n",
      "done compute mu map and mu in length interval 3.790855407714844e-05\n",
      "done null simulation 24.523889303207397\n",
      "len fretimes 421332\n",
      "len mufreqs 421332\n",
      "4.203881502151489\n",
      "BIC:  4425.900163848791\n",
      "all done\n",
      "all done 11 0.008200645446777344\n",
      "done simulate data 25.834673643112183\n",
      "done compute mu map and mu in length interval 3.790855407714844e-05\n",
      "done null simulation 23.57015109062195\n",
      "len fretimes 426173\n",
      "len mufreqs 426173\n",
      "4.314424753189087\n",
      "BIC:  3169.2566146556637\n",
      "all done\n",
      "all done 12 0.008244991302490234\n",
      "done simulate data 25.300880908966064\n",
      "done compute mu map and mu in length interval 3.600120544433594e-05\n",
      "done null simulation 24.187296152114868\n",
      "len fretimes 422980\n",
      "len mufreqs 422980\n",
      "4.221059083938599\n",
      "BIC:  2598.8947778320767\n",
      "all done\n",
      "all done 13 0.008208274841308594\n",
      "done simulate data 24.568779945373535\n",
      "done compute mu map and mu in length interval 3.981590270996094e-05\n",
      "done null simulation 23.969372510910034\n",
      "len fretimes 426974\n",
      "len mufreqs 426974\n",
      "4.160254001617432\n",
      "BIC:  3291.729188336651\n",
      "all done\n",
      "all done 14 0.008287429809570312\n",
      "done simulate data 26.11724090576172\n",
      "done compute mu map and mu in length interval 3.790855407714844e-05\n",
      "done null simulation 24.45688223838806\n",
      "len fretimes 425947\n",
      "len mufreqs 425947\n",
      "4.532612323760986\n",
      "BIC:  3084.3368511175186\n",
      "all done\n",
      "all done 15 0.00824117660522461\n",
      "done simulate data 27.59782075881958\n",
      "done compute mu map and mu in length interval 3.62396240234375e-05\n",
      "done null simulation 25.648383378982544\n",
      "len fretimes 426768\n",
      "len mufreqs 426768\n",
      "4.915919542312622\n",
      "BIC:  3779.8202509284506\n",
      "all done\n",
      "all done 16 0.00851893424987793\n",
      "done simulate data 28.83952236175537\n",
      "done compute mu map and mu in length interval 3.9577484130859375e-05\n",
      "done null simulation 26.452425718307495\n",
      "len fretimes 426137\n",
      "len mufreqs 426137\n",
      "4.3188183307647705\n",
      "BIC:  3327.5558652889963\n",
      "all done\n",
      "all done 17 0.015624761581420898\n",
      "done simulate data 26.973374128341675\n",
      "done compute mu map and mu in length interval 3.886222839355469e-05\n",
      "done null simulation 24.558563709259033\n",
      "len fretimes 424387\n",
      "len mufreqs 424387\n",
      "4.433197021484375\n",
      "BIC:  3548.484011422202\n",
      "all done\n",
      "all done 18 0.008427143096923828\n",
      "done simulate data 26.693116903305054\n",
      "done compute mu map and mu in length interval 5.5789947509765625e-05\n",
      "done null simulation 24.046132802963257\n",
      "len fretimes 422739\n",
      "len mufreqs 422739\n",
      "4.326488733291626\n",
      "BIC:  3096.348936530597\n",
      "all done\n",
      "all done 19 0.008298397064208984\n",
      "done simulate data 26.841180562973022\n",
      "done compute mu map and mu in length interval 5.078315734863281e-05\n",
      "done null simulation 24.639973163604736\n",
      "len fretimes 424550\n",
      "len mufreqs 424550\n",
      "4.5210182666778564\n",
      "BIC:  3336.0068400336895\n",
      "all done\n",
      "all done 20 0.008082866668701172\n",
      "done simulate data 25.81073808670044\n",
      "done compute mu map and mu in length interval 3.719329833984375e-05\n",
      "done null simulation 25.29220151901245\n",
      "len fretimes 425002\n",
      "len mufreqs 425002\n",
      "4.236507415771484\n",
      "BIC:  2703.5321363823814\n",
      "all done\n",
      "all done 21 0.008552312850952148\n",
      "done simulate data 25.33773708343506\n",
      "done compute mu map and mu in length interval 4.029273986816406e-05\n",
      "done null simulation 23.142862796783447\n",
      "len fretimes 424293\n",
      "len mufreqs 424293\n",
      "4.212260961532593\n",
      "BIC:  3212.6433308840496\n",
      "all done\n",
      "all done 22 0.008249521255493164\n",
      "done simulate data 25.52607798576355\n",
      "done compute mu map and mu in length interval 3.5762786865234375e-05\n",
      "done null simulation 23.334584712982178\n",
      "len fretimes 426488\n",
      "len mufreqs 426488\n",
      "4.272746562957764\n",
      "BIC:  3331.159185354632\n",
      "all done\n",
      "all done 23 0.008409976959228516\n",
      "done simulate data 24.96012544631958\n",
      "done compute mu map and mu in length interval 3.743171691894531e-05\n",
      "done null simulation 23.507760524749756\n",
      "len fretimes 424184\n",
      "len mufreqs 424184\n",
      "4.1456263065338135\n",
      "BIC:  3251.5277342659588\n",
      "all done\n",
      "all done 24 0.0084991455078125\n",
      "done simulate data 25.12193012237549\n",
      "done compute mu map and mu in length interval 3.790855407714844e-05\n",
      "done null simulation 23.976080417633057\n",
      "len fretimes 424810\n",
      "len mufreqs 424810\n",
      "4.331222772598267\n",
      "BIC:  2904.863534967058\n",
      "all done\n",
      "all done 25 0.008330821990966797\n",
      "done simulate data 24.948005199432373\n",
      "done compute mu map and mu in length interval 3.528594970703125e-05\n",
      "done null simulation 23.435084342956543\n",
      "len fretimes 426219\n",
      "len mufreqs 426219\n",
      "4.38554835319519\n",
      "BIC:  3167.0117451476754\n",
      "all done\n",
      "all done 26 0.008383512496948242\n",
      "average time 30.14702784538269\n"
     ]
    },
    {
     "name": "stderr",
     "output_type": "stream",
     "text": [
      "/tmp/ipykernel_1054/2053179085.py:648: RuntimeWarning: divide by zero encountered in log\n",
      "  plt.plot(investlist[i],numpy.log(Ntlist[i])/numpy.log(10) )\n",
      "/tmp/ipykernel_1054/2053179085.py:648: RuntimeWarning: divide by zero encountered in log\n",
      "  plt.plot(investlist[i],numpy.log(Ntlist[i])/numpy.log(10) )\n",
      "/tmp/ipykernel_1054/2053179085.py:648: RuntimeWarning: divide by zero encountered in log\n",
      "  plt.plot(investlist[i],numpy.log(Ntlist[i])/numpy.log(10) )\n",
      "/tmp/ipykernel_1054/2053179085.py:648: RuntimeWarning: divide by zero encountered in log\n",
      "  plt.plot(investlist[i],numpy.log(Ntlist[i])/numpy.log(10) )\n",
      "/tmp/ipykernel_1054/2053179085.py:648: RuntimeWarning: divide by zero encountered in log\n",
      "  plt.plot(investlist[i],numpy.log(Ntlist[i])/numpy.log(10) )\n"
     ]
    },
    {
     "data": {
      "text/plain": [
       "(3.0, 7.0)"
      ]
     },
     "execution_count": 3,
     "metadata": {},
     "output_type": "execute_result"
    },
    {
     "data": {
      "image/png": "[encoded data removed]",
      "text/plain": [
       "<Figure size 432x288 with 1 Axes>"
      ]
     },
     "metadata": {
      "needs_background": "light"
     },
     "output_type": "display_data"
    }
   ],
   "source": [
    "import statistics\n",
    "import msprime\n",
    "from IPython.display import SVG, display\n",
    "import tsinfer\n",
    "import scipy\n",
    "import math\n",
    "import numpy\n",
    "import tskit\n",
    "import io\n",
    "import builtins\n",
    "import sys\n",
    "from tqdm.notebook import tqdm\n",
    "from tskit import MISSING_DATA\n",
    "import pickle\n",
    "import random\n",
    "from sklearn.linear_model import LinearRegression\n",
    "from sklearn.linear_model import Lasso\n",
    "from sklearn.linear_model import LassoCV\n",
    "from sklearn.linear_model import LassoLarsIC\n",
    "from sklearn.linear_model import LassoLarsIC\n",
    "import matplotlib.pyplot as plt\n",
    "import cvxopt as opt\n",
    "from cvxopt import matrix, spmatrix, sparse\n",
    "from cvxopt.solvers import qp, options\n",
    "from cvxopt import blas\n",
    "from cvxopt import spdiag\n",
    "import statsmodels\n",
    "from statsmodels.nonparametric.kernel_regression import KernelReg\n",
    "from scipy.signal import savgol_filter\n",
    "from sklearn.linear_model import Ridge\n",
    "from sklearn.linear_model import RidgeCV\n",
    "import time\n",
    "\n",
    "\n",
    "\n",
    "\n",
    "import bisect\n",
    "def find_s(elem, sorted_list):\n",
    "    'Locate the leftmost value exactly equal to x'\n",
    "    i = bisect.bisect_left(sorted_list, elem)\n",
    "    if i != len(sorted_list) and sorted_list[i] == elem:\n",
    "        return i\n",
    "\n",
    "\n",
    "def find_s_se(elem, sorted_list):\n",
    "    'Locate the leftmost value smaller or equal to x'\n",
    "    i = bisect.bisect_right(sorted_list, elem)\n",
    "    if i != 0:\n",
    "        return i-1\n",
    "    else:\n",
    "        print(\"error\")\n",
    "\n",
    "\n",
    "def find_s_s(elem, sorted_list):\n",
    "    'Locate the leftmost value smaller or equal to x'\n",
    "    i = bisect.bisect_left(sorted_list, elem)\n",
    "    if i != 0:\n",
    "        return i\n",
    "    else:\n",
    "        return 0\n",
    "    \n",
    "def est_mu_map_fun(mu_ave,site_pos_sort,est_mu_map_num_inter,seq_len):\n",
    "    inter = numpy.linspace(0,seq_len,est_mu_map_num_inter+1)\n",
    "    cur_num_l = 0\n",
    "    num_mu_int = numpy.zeros(len(inter)-1)\n",
    "    for k in range(1,len(inter)):\n",
    "        cur_num_r = find_s_s(inter[k], site_pos_sort )\n",
    "        num_mu_int[k-1] = cur_num_r-cur_num_l\n",
    "        cur_num_l = cur_num_r\n",
    "    est_mu_rate = num_mu_int/( inter[1:] - inter[0: (len(inter)-1)]   )   \n",
    "    est_mu_rate = est_mu_rate/sum(est_mu_rate)*mu_ave*est_mu_map_num_inter\n",
    "    return([inter,est_mu_rate])\n",
    "\n",
    "seq_len = 10**8\n",
    "sam_size = 1000\n",
    "\n",
    "pop_size_con = 10000\n",
    "r_con = 10**(-8)\n",
    "\n",
    "########\n",
    "mu_map_unknown = 0\n",
    "mu_ave = 1.3*10**(-8)\n",
    "est_mu_map_num_inter = 1\n",
    "##########\n",
    "\n",
    "\n",
    "c_value = 0.65*10**(-1)\n",
    "c1=0\n",
    "\n",
    "totaliter=25\n",
    "\n",
    "numtildet = 100\n",
    "\n",
    "\n",
    "########################## Demographic model #########################################\n",
    "\n",
    "\n",
    "pop_ini_size = 1500000\n",
    "demo_model = msprime.Demography.isolated_model([pop_ini_size], growth_rate=[0.2])\n",
    "demo_model.add_population_parameters_change(25,  initial_size=None, growth_rate=0, population=None)\n",
    "\n",
    "\n",
    "############################## r map ######################################\n",
    "\n",
    "r_map = 10**(-8)\n",
    "\n",
    "\n",
    "############################ mu map         ###################################\n",
    "################################################################################\n",
    "mu_map = 1.3*10**(-8)\n",
    "\n",
    "\n",
    "\n",
    "################################################################################\n",
    "\n",
    "\n",
    "\n",
    "\n",
    "lamd = []\n",
    "Ntlist = []\n",
    "investlist = []\n",
    "\n",
    "\n",
    "sum_time = 0\n",
    "for it in range(totaliter):\n",
    "\n",
    "    \n",
    "    s_time_sim_data = time.time()\n",
    "    \n",
    "####### observe #########\n",
    "    ts1 = msprime.sim_ancestry(\n",
    "        samples=sam_size,\n",
    "        recombination_rate= r_map, \n",
    "        sequence_length= seq_len,\n",
    "#         population_size = pop_size,\n",
    "#         gene_conversion_rate = gene_conver ,\n",
    "#         gene_conversion_tract_length = track_len,\n",
    "#         random_seed = it*10+1,\n",
    "#         discrete_genome=False,\n",
    "        demography = demo_model\n",
    "        )\n",
    "    # Visualise the simulated ancestral history.\n",
    "    #SVG(ts.draw_svg())\n",
    "\n",
    "    #ts.num_trees\n",
    "\n",
    "\n",
    "    mts1 = msprime.sim_mutations(ts1, rate = mu_map,\n",
    "                                discrete_genome=False,\n",
    "#                                 random_seed= it*10+1\n",
    "                               )\n",
    "\n",
    "    #print(iter,\"done generating\")\n",
    "\n",
    "    \n",
    "    e_time_sim_data = time.time()\n",
    "    print('done simulate data', e_time_sim_data-s_time_sim_data)\n",
    "    \n",
    "    s_time = time.time()\n",
    "    \n",
    "    if mu_map_unknown == 1:\n",
    "        site_pos_sort = mts1.tables.sites.position\n",
    "        aa = est_mu_map_fun(mu_ave,site_pos_sort,est_mu_map_num_inter,seq_len)\n",
    "        mu_map = msprime.RateMap(position=aa[0].tolist(), rate=aa[1].tolist())\n",
    "\n",
    "    \n",
    "\n",
    "    if isinstance(mu_map, float) ==1:\n",
    "        seq_bp = [*range(0,seq_len, int(c_value/mu_map) )]\n",
    "        seq_bp.append(seq_len)\n",
    "        seq_bp=numpy.array(seq_bp)\n",
    "    else:\n",
    "        seq_bp = [0]\n",
    "        current_seq_site = 0\n",
    "        need_cum_rate = c_value\n",
    "        for i in range(len(mu_map.right)):\n",
    "            current_mu_change_point = mu_map.right[i]\n",
    "            current_mu_map_rate = mu_map.rate[i]\n",
    "            while need_cum_rate/current_mu_map_rate <= (current_mu_change_point - current_seq_site):\n",
    "                seq_bp.append(current_seq_site + need_cum_rate/current_mu_map_rate)\n",
    "                current_seq_site = seq_bp[-1]\n",
    "                need_cum_rate = c_value\n",
    "            need_cum_rate = need_cum_rate - (current_mu_change_point - current_seq_site)*current_mu_map_rate\n",
    "            current_seq_site = current_mu_change_point\n",
    "        if seq_bp[-1] != seq_len:\n",
    "            seq_bp.append(seq_len)\n",
    "        seq_bp = numpy.array(seq_bp)\n",
    "\n",
    "\n",
    "                  ###### Compute the weighted average mu of each interval ###########\n",
    "    mu_in_interval = c_value / ( seq_bp[1:] - seq_bp[0:(len(seq_bp)-1)] )\n",
    "\n",
    "    ################################################################################    \n",
    "    \n",
    "    e_time_mu = time.time()\n",
    "    print(\"done compute mu map and mu in length interval\", e_time_mu-s_time)\n",
    "\n",
    "    ts = msprime.sim_ancestry(\n",
    "        samples=sam_size,\n",
    "        recombination_rate= r_con, \n",
    "        sequence_length= seq_len,\n",
    "        population_size = pop_size_con,\n",
    "#         random_seed =it*10+1026,\n",
    "#         discrete_genome=False,\n",
    "        #demography = demo_model\n",
    "        )\n",
    "    # Visualise the simulated ancestral history.\n",
    "    #SVG(ts.draw_svg())\n",
    "\n",
    "    #ts.num_trees\n",
    "\n",
    "\n",
    "    mts = msprime.sim_mutations(ts, rate = mu_map,\n",
    "                                discrete_genome=False,\n",
    "#                                 random_seed=it*10+1026\n",
    "                               )\n",
    "\n",
    "    #print(iter,\"done generating\")\n",
    "    \n",
    "    e_time_null_sim = time.time()\n",
    "    print(\"done null simulation\", e_time_null_sim-s_time)\n",
    "    \n",
    "    \n",
    "    \n",
    "    s_time_xmat_ymat = time.time()\n",
    "\n",
    "\n",
    "    #### new improvement ######################################### \n",
    "\n",
    "    mu_time = mts.tables.mutations.time\n",
    "#     mu_site_id = mts.tables.mutations.site\n",
    "#     mu_site = mts.tables.sites.position[mu_site_id]\n",
    "#     mu_node = mts.tables.mutations.node\n",
    "    mufreq = numpy.zeros(len(mu_time))\n",
    "#     rate_nomu = numpy.zeros( (len(seq_bp)-1)*(2*sam_size-1) )\n",
    "#     rate_mu = numpy.zeros( (len(seq_bp)-1)*(2*sam_size-1) )\n",
    "#     timevec_all = numpy.zeros( (len(seq_bp)-1)*(2*sam_size-1) )\n",
    "#     current_seq_int = 0\n",
    "#     current_site = seq_bp[0]\n",
    "#     current_interval_r = seq_bp[1]\n",
    "#     current_rate_nomu = numpy.zeros(2*sam_size-1)\n",
    "    freqtime = mu_time\n",
    "\n",
    "\n",
    "    #####################################################\n",
    "    ######################################################\n",
    "    ######################################################\n",
    "    ######################################################\n",
    "    #####################################################\n",
    "\n",
    "\n",
    "\n",
    "#     tildetcheckm1 = []\n",
    "#     for i in range(1,numtildet-1):\n",
    "#         tildetcheckm1.append( numpy.sort(freqtime)[int(len(freqtime)/numtildet*i)])\n",
    "#     tildetcheck = tildetcheckm1 + [max(freqtime)]\n",
    "\n",
    "    # 自己决定tildetcheck    \n",
    "#     tildetcheck = [0.01,0.02,0.04,0.08,  0.16, 0.32, 0.64,  2.56,  10.24, 40.96, 163.84, 655.36, 2621.44]\n",
    "    tildetcheck = [0.01,0.02,0.04,0.08,  0.16,  0.32, 1.28,  5.12,  20.48, 81.92, 327.68, 1310.72, 5242.88,20971.52]\n",
    "    if tildetcheck[-1] < max(freqtime):\n",
    "        tildetcheck = tildetcheck+[max(freqtime)]\n",
    "        \n",
    "        \n",
    "#     # 自己决定tildetcheck    \n",
    "#     tildetcheck = numpy.arange(0.2,2,0.2).tolist() + [10,50,250,1250,6250,31250]\n",
    "#     if tildetcheck[-1] < max(freqtime):\n",
    "#         tildetcheck = tildetcheck+[max(freqtime)]\n",
    "\n",
    "\n",
    "\n",
    "\n",
    "\n",
    "    time_bp = numpy.array(tildetcheck[0:(len(tildetcheck)-1) ] )   \n",
    "\n",
    "    mu_index = 0\n",
    "    for tree in mts.trees():\n",
    "        for each_mu in tree.mutations():\n",
    "            mufreq[mu_index] = tree.num_samples(each_mu.node)\n",
    "            mu_index = mu_index+1\n",
    "        \n",
    "\n",
    "\n",
    "#         ## pairs (i, i+1)\n",
    "#         tree_high = numpy.zeros(2*sam_size-1)\n",
    "#         for i in range(2*sam_size-1):\n",
    "#             ## pairs (i, i+1)\n",
    "#             tree_high[i] = 2*tree.tmrca(i,i+1)     \n",
    "#         tree_lp = tree.interval[0]\n",
    "#         tree_rp = tree.interval[1]\n",
    "\n",
    "\n",
    "#         while tree_rp >= current_interval_r:\n",
    "#             rate_nomu[ current_seq_int*(2*sam_size-1) : (current_seq_int+1)*(2*sam_size-1) ] = current_rate_nomu + \\\n",
    "#                                                                     tree_high*(current_interval_r - current_site)\n",
    "#             timevec_all[ current_seq_int*(2*sam_size-1) : (current_seq_int+1)*(2*sam_size-1) ] = \\\n",
    "#                 rate_nomu[ current_seq_int*(2*sam_size-1) : (current_seq_int+1)*(2*sam_size-1) ]\\\n",
    "#                 /(seq_bp[current_seq_int+1] - seq_bp[current_seq_int] )/2\n",
    "#             if isinstance(mu_map, float) ==1 :\n",
    "#                 rate_mu[ current_seq_int*(2*sam_size-1) : (current_seq_int+1)*(2*sam_size-1) ] = \\\n",
    "#                 rate_nomu[ current_seq_int*(2*sam_size-1) :(current_seq_int+1)*(2*sam_size-1) ]*mu_map\n",
    "#             else:\n",
    "#                 rate_mu[ current_seq_int*(2*sam_size-1) : (current_seq_int+1)*(2*sam_size-1) ] = \\\n",
    "#                 rate_nomu[ current_seq_int*(2*sam_size-1) :(current_seq_int+1)*(2*sam_size-1) ]*mu_in_interval[current_seq_int]\n",
    "#             current_site = current_interval_r\n",
    "#             current_rate_nomu = numpy.zeros(2*sam_size-1)\n",
    "#             if current_site != seq_bp[-1]:\n",
    "#                 current_seq_int = current_seq_int+1\n",
    "#                 current_interval_r = seq_bp[current_seq_int+1]\n",
    "#             else:\n",
    "#                 break\n",
    "\n",
    "\n",
    "#         current_rate_nomu = current_rate_nomu + tree_high*(tree_rp - current_site)\n",
    "#         current_site = tree_rp\n",
    "\n",
    "#     ############################################################################ \n",
    "\n",
    "#     if len(mufreq) != len(freqtime):\n",
    "#         print(\"something is wrong\")\n",
    "#     print(\"done2\") \n",
    "\n",
    "    ############################################################################ \n",
    "\n",
    "\n",
    "    nummuwithin_obs =  mts1.allele_frequency_spectrum(polarised=True, span_normalise=False)[1:]\n",
    "\n",
    "    #########################################################################################\n",
    "\n",
    "\n",
    "\n",
    "    ##############################################################################################\n",
    "\n",
    "\n",
    "\n",
    "\n",
    "    freqtsortbytime = numpy.transpose(sorted(numpy.transpose(numpy.array([freqtime,mufreq])).tolist()))\n",
    "    freqtimes = freqtsortbytime[0]\n",
    "    mufreqs = freqtsortbytime[1]\n",
    "\n",
    "    tinterval = numpy.zeros(len(freqtimes))\n",
    "    curint = 0\n",
    "    tiltind = 0\n",
    "    curtimett = tildetcheck[tiltind]\n",
    "    print(\"len fretimes\", len(freqtimes))\n",
    "    for i in range(len(freqtimes)):\n",
    "        if freqtimes[i] <= curtimett:\n",
    "            tinterval[i] = curint\n",
    "        else:\n",
    "            tiltind = tiltind + 1\n",
    "            curtimett = tildetcheck[tiltind]\n",
    "            while curtimett<freqtimes[i]:\n",
    "                curint = curint + 1\n",
    "                tiltind = tiltind + 1\n",
    "                curtimett = tildetcheck[tiltind]\n",
    "\n",
    "            curint = curint + 1\n",
    "            tinterval[i] = curint\n",
    "\n",
    "    tinterval = tinterval.astype(int)\n",
    "    ##############################################################\n",
    "\n",
    "#     ####### new improvement ############\n",
    "\n",
    "#     afs = numpy.zeros( (len(seq_bp)-1) *(2*sam_size-1) )\n",
    "#     for i in range(2*sam_size-1):\n",
    "#         current_afs_all = mts1.allele_frequency_spectrum(sample_sets = [[i,i+1]], polarised=True, \\\n",
    "#                                                     windows = seq_bp, span_normalise=False)\n",
    "#         current_afs = current_afs_all[:,1]\n",
    "#         index = i + numpy.array( [*range(len(seq_bp)-1)]) * (2*sam_size-1)\n",
    "#         afs[index] = current_afs + numpy.random.poisson( ( seq_bp[1:]-seq_bp[:(len(seq_bp) -1)] )*epsilon*2 )\n",
    "\n",
    "#     print(\"done2\")     \n",
    "\n",
    "\n",
    "#     afs_sort = numpy.sort(afs)\n",
    "#     sortindex = numpy.argsort(rate_mu)\n",
    "#     rate_mu_sort = rate_mu[sortindex]\n",
    "#     timevec_all_sort = timevec_all[sortindex]\n",
    "\n",
    "    #############################################################################################\n",
    "    ##############################################################################################\n",
    "\n",
    "\n",
    "    Xmat = numpy.zeros( (len(nummuwithin_obs),  max(tinterval)+1)   )\n",
    "    Xmat = Xmat.astype(\"float64\")\n",
    "\n",
    "    infreqint = numpy.zeros(len(mufreqs))\n",
    "    for i in range(len(mufreqs)):\n",
    "        infreqint[i] =  mufreqs[i]-1 \n",
    "    infreqint = infreqint.astype(int)\n",
    "\n",
    "    lenf = len(nummuwithin_obs)\n",
    "    print(\"len mufreqs\", len(mufreqs))\n",
    "    for i in range(len(mufreqs)):\n",
    "        a1 = infreqint[i] \n",
    "        a2 = tinterval[i]\n",
    "        if a1 < lenf:\n",
    "            Xmat[a1][a2] = Xmat[a1][a2] + 1\n",
    "\n",
    "\n",
    "    Ymat = numpy.array(nummuwithin_obs)\n",
    "    Ymat = Ymat.astype(\"float64\")\n",
    "\n",
    "\n",
    "    ####### new improvement ############\n",
    "\n",
    "#     ####### new improvement ############\n",
    "\n",
    "\n",
    "#     Xmat_new = numpy.zeros((len(rate_mu_sort), len(time_bp)+1 )) \n",
    "#     for i in range(len(timevec_all_sort)):\n",
    "#         current_time = timevec_all_sort[i]\n",
    "#         current_rate = rate_mu_sort[i]\n",
    "#         index = find_s_s(current_time,time_bp)\n",
    "#         if index==0:\n",
    "#             Xmat_new[i,index] = current_rate\n",
    "#         else:\n",
    "#             Xmat_new[i,0]  = current_rate * time_bp[0]/current_time\n",
    "#             Xmat_new[i,1:index] = current_rate * (time_bp[1:index]-time_bp[0:(index-1)])/current_time\n",
    "#             Xmat_new[i,index] = current_rate * (current_time - time_bp[index-1]) / current_time\n",
    "\n",
    "#     #### density deconvolution\n",
    "#     Ymat_obs = afs_sort        \n",
    "#     yvec = numpy.arange(min(Ymat_obs) , min( min(Ymat_obs) +  len(Ymat_obs),  max(Ymat_obs)+1) )\n",
    "#     den_mean = numpy.zeros(len(yvec))\n",
    "#     den_obs = numpy.zeros(len(yvec))\n",
    "#     for i in range(len(yvec)):\n",
    "#         val = yvec[i]\n",
    "#         den_obs[i] = ( find_s_s(val+1,Ymat_obs) - find_s_s(val,Ymat_obs) ) / len(Ymat_obs)\n",
    "#     find_den_x_mat = numpy.zeros( (len(den_mean),len(yvec)) )\n",
    "#     for i in range(len(find_den_x_mat)):\n",
    "#         val = yvec[i]\n",
    "#         find_den_x_mat[i] = scipy.stats.poisson.pmf(val,mu=yvec)\n",
    "#     find_den_y_mat = den_obs\n",
    "#     lm = LinearRegression(fit_intercept=False,positive = True)\n",
    "#     lm.fit(find_den_x_mat,find_den_y_mat)    \n",
    "#     den_mean = lm.coef_\n",
    "#     cdf_mean = numpy.cumsum(den_mean)\n",
    "#     quan_vec =  numpy.arange(1,len(Xmat_new)+1)   /(len(Xmat_new) +1 )\n",
    "#     Ymat_new = numpy.zeros(len(Xmat_new))\n",
    "#     for i in range(len(quan_vec)):\n",
    "#         yloc = find_s_s(quan_vec[i],cdf_mean)\n",
    "#         if yloc==0:\n",
    "#             Ymat_new[i] = yvec[yloc ] + quan_vec[i]/(cdf_mean[yloc]  ) \n",
    "#         elif yloc == len(cdf_mean):\n",
    "#             Ymat_new[i] = yvec[yloc-1] + (quan_vec[i]-cdf_mean[-1])/(1-cdf_mean[-1])\n",
    "#         else:\n",
    "#             Ymat_new[i] = yvec[yloc ] + (quan_vec[i] - cdf_mean[yloc-1])/(cdf_mean[yloc] - cdf_mean[yloc-1] ) \n",
    "\n",
    "\n",
    "\n",
    "#     #     Xmat_new = Xmat_new[0:3000]\n",
    "#     #     Ymat_new = Ymat_new[0:3000]\n",
    "\n",
    "#     ##############################################################################################\n",
    "\n",
    "\n",
    "\n",
    "\n",
    "\n",
    "    ####### combine #############################################################\n",
    "\n",
    "#     ####### weight Xmat_new so that it has equal importance to Xmat\n",
    "\n",
    "#     Xmat_new = Xmat_new*numpy.sqrt( c1/len(Xmat_new) )\n",
    "#     Ymat_new = Ymat_new*numpy.sqrt( c1/len(Ymat_new) )\n",
    "\n",
    "    \n",
    "#     Xmat = Xmat[1:]\n",
    "#     Ymat = Ymat[1:]\n",
    "\n",
    "#     Xmat_combine = numpy.concatenate((Xmat, Xmat_new), axis=0)\n",
    "#     Ymat_combine = numpy.concatenate((Ymat, Ymat_new))\n",
    "    Xmat_combine = Xmat\n",
    "    Ymat_combine = Ymat\n",
    "\n",
    "    e_time_xmat_ymat = time.time()\n",
    "\n",
    "    print(    e_time_xmat_ymat -     s_time_xmat_ymat )\n",
    "\n",
    "    \n",
    "    \n",
    "    \n",
    "\n",
    "\n",
    "    s_time_reg = time.time()\n",
    "    \n",
    "    ## weighted least square\n",
    "    Xfit = numpy.zeros( (len(Xmat_combine[:,0]),len(Xmat_combine[0,:]) ) )\n",
    "    Yfit = numpy.zeros(len(Ymat_combine))\n",
    "    for i in range(len(Ymat_combine)):\n",
    "    #         Xfit[i,:] = Xmat_combine[i,:]/(sum(Xmat_combine[i,:])+1)\n",
    "    #         Yfit[i] = Ymat_combine[i]/(sum(Xmat_combine[i,:])+1)\n",
    "    #         Xfit[i,:] = Xmat_combine[i,:]/(sum(Xmat_combine[i,:])+1)/(numpy.sqrt( Ymat_combine[i]+1) / (sum(Xmat_combine[i,:])+1) )\n",
    "    #         Yfit[i] = Ymat_combine[i]/(sum(Xmat_combine[i,:])+1)/ (numpy.sqrt( Ymat_combine[i]+1) / (sum(Xmat_combine[i,:])+1) )\n",
    "        Xfit[i,:] = Xmat_combine[i,:]/numpy.sqrt(Ymat_combine[i]+1)\n",
    "        Yfit[i] = Ymat_combine[i]/numpy.sqrt(Ymat_combine[i]+1)\n",
    "\n",
    "\n",
    "\n",
    "\n",
    "    ########################### penalyse difference of slopes ######\n",
    "\n",
    "    current_lambda = 0.01\n",
    "\n",
    "#     PXmat = numpy.zeros((len(Xmat_combine[0])-2, len(Xmat_combine[0]) ))\n",
    "\n",
    "\n",
    "#     It_list = numpy.array(tildetcheck)\n",
    "#     It_list[1:] = numpy.array(tildetcheck[1:])-numpy.array(tildetcheck[0:(len(tildetcheck)-1)])\n",
    "\n",
    "#     ### weighting beta by time gap ########################\n",
    "#     for i in range(len(PXmat)):\n",
    "#         if i<7:\n",
    "#             PXmat[i,i] =  1/(8**(4-i))*numpy.sqrt(0.5*It_list[i] + 0.5*It_list[i+2] + It_list[i+1])*numpy.sqrt(current_lambda)*1/(0.5*(It_list[i] + It_list[i+1]) )\n",
    "#             PXmat[i,i+1] = 1/(8**(4-i))*numpy.sqrt(0.5*It_list[i] + 0.5*It_list[i+2] + It_list[i+1])*numpy.sqrt(current_lambda)*(-1/(0.5*(It_list[i] + It_list[i+1]) ) - 1/(0.5*(It_list[i+1] + It_list[i+2]) ) ) \n",
    "#             PXmat[i,i+2] = 1/(8**(4-i))*numpy.sqrt(0.5*It_list[i] + 0.5*It_list[i+2] + It_list[i+1])*numpy.sqrt(current_lambda)*1/(0.5*(It_list[i+1] + It_list[i+2]) )\n",
    "#         else:\n",
    "#             PXmat[i,i] =  numpy.sqrt(0.5*It_list[i] + 0.5*It_list[i+2] + It_list[i+1])*numpy.sqrt(current_lambda)*1/(0.5*(It_list[i] + It_list[i+1]) )\n",
    "#             PXmat[i,i+1] = numpy.sqrt(0.5*It_list[i] + 0.5*It_list[i+2] + It_list[i+1])*numpy.sqrt(current_lambda)*(-1/(0.5*(It_list[i] + It_list[i+1]) ) - 1/(0.5*(It_list[i+1] + It_list[i+2]) ) ) \n",
    "#             PXmat[i,i+2] = numpy.sqrt(0.5*It_list[i] + 0.5*It_list[i+2] + It_list[i+1])*numpy.sqrt(current_lambda)*1/(0.5*(It_list[i+1] + It_list[i+2]) )\n",
    "               \n",
    "#     PYmat = numpy.zeros(len(Xmat_combine[0])-2)\n",
    "\n",
    "#     Xfit1 = numpy.concatenate((Xfit, PXmat), axis=0)\n",
    "#     Yfit1 = numpy.concatenate((Yfit, PYmat), axis=0)\n",
    "\n",
    "#     fitmodel = LinearRegression(fit_intercept=False,positive = True)\n",
    "\n",
    "#     fitmodel.fit(Xfit1,Yfit1)    \n",
    "#     sol = fitmodel.coef_\n",
    "\n",
    "#     # correct the last term:\n",
    "#     sol[-1]= 0.5*(It_list[i+1] + It_list[i+1])*(1/(0.5*(It_list[i] + It_list[i+1]) )*sol[-2] \\\n",
    "#                                                 + 1/(0.5*(It_list[i+1] + It_list[i+1]) )*sol[-2]\\\n",
    "#                                                 - 1/(0.5*(It_list[i] + It_list[i+1]) )*sol[-3]  )\n",
    "\n",
    "    PXmat = numpy.zeros((len(Xfit[0])-2, len(Xfit[0]) ))\n",
    "\n",
    "    It_list = numpy.array(tildetcheck)\n",
    "    It_list[1:] = numpy.array(tildetcheck[1:])-numpy.array(tildetcheck[0:(len(tildetcheck)-1)])\n",
    "\n",
    "    ### weighting beta by time gap ########################\n",
    "    for i in range(len(PXmat)):\n",
    "        PXmat[i,i] =  numpy.sqrt(current_lambda)*(1)\n",
    "        PXmat[i,i+1] = numpy.sqrt(current_lambda)*( -2 ) \n",
    "        PXmat[i,i+2] = numpy.sqrt(current_lambda)*(1)\n",
    "\n",
    "    PYmat = numpy.zeros(len(Xfit[0])-2)\n",
    "\n",
    "    Xfit1 = numpy.concatenate((Xfit, PXmat), axis=0)\n",
    "    Yfit1 = numpy.concatenate((Yfit, PYmat), axis=0)\n",
    "\n",
    "    fitmodel = LinearRegression(fit_intercept=False,positive = True)\n",
    "\n",
    "    fitmodel.fit(Xfit1,Yfit1)    \n",
    "    sol = fitmodel.coef_\n",
    "\n",
    "    # correct the last term:\n",
    "    sol[-1]= 2*sol[-2] - sol[-3]  \n",
    "\n",
    "\n",
    "    #############################\n",
    "\n",
    "    rss = sum((numpy.matmul(Xfit,sol)-Yfit)**2)\n",
    "    aa = numpy.matmul(numpy.transpose(Xfit1),Xfit1)\n",
    "    bb= numpy.linalg.inv(aa)\n",
    "    cc = numpy.matmul(Xfit,bb)\n",
    "    df = sum(sum(cc*Xfit))\n",
    "    bic = len(Xfit)*numpy.log(rss/len(Xfit)) + df*numpy.log(len(Xfit))\n",
    "    print(\"BIC: \",bic)\n",
    "\n",
    "    #############################\n",
    "\n",
    "\n",
    "\n",
    "    tcheck = [sol[0]*tildetcheck[0] ]\n",
    "    for i in range(1,len(tildetcheck)):\n",
    "        tcheck.append(tcheck[i-1] + sol[i]*(tildetcheck[i] - tildetcheck[i-1] )  )\n",
    "\n",
    "    #############################################################################\n",
    "\n",
    "    invest = []\n",
    "    invest.append(0)\n",
    "    Nt = []\n",
    "    for i in range(len(tcheck)-1):\n",
    "        Nt.append(sol[i]*pop_size_con*2)\n",
    "        Nt.append(sol[i]*pop_size_con*2)\n",
    "        invest.append(tcheck[i])\n",
    "        invest.append(tcheck[i])\n",
    "    Nt.append(sol[-1]*pop_size_con*2)\n",
    "    Nt.append(sol[-1]*pop_size_con*2)\n",
    "    invest.append(tcheck[-1])\n",
    "\n",
    "\n",
    "    Ntlist.append(Nt)  \n",
    "    investlist.append(invest)\n",
    "    print(\"all done\")\n",
    "\n",
    "    e_time = time.time()\n",
    "\n",
    "    sum_time = sum_time + e_time-s_time    \n",
    "    \n",
    "    e_time_reg = time.time()\n",
    "    \n",
    "    print(\"all done\",it, e_time_reg-s_time_reg)\n",
    "    \n",
    "    name = str(it)+\"_Model8_Nt_approach12.dat\"\n",
    "    file = open(name,\"wb\") \n",
    "    pickle.dump(Nt,file)\n",
    "    file.close()\n",
    "\n",
    "    name = str(it)+\"_Model8_invest__approach12.dat\"\n",
    "    file = open(name,\"wb\") \n",
    "    pickle.dump(invest,file)\n",
    "    file.close()\n",
    "    \n",
    "\n",
    "ave_time = sum_time/totaliter\n",
    "print(\"average time\", ave_time)\n",
    "\n",
    "name = \"Model8_ave_time_approach12.dat\"\n",
    "file = open(name,\"wb\") \n",
    "pickle.dump(ave_time,file)\n",
    "file.close()   \n",
    "\n",
    "name = \"Model8_Ntlist_approach12.dat\"\n",
    "file = open(name,\"wb\") \n",
    "pickle.dump(Ntlist,file)\n",
    "file.close()\n",
    "\n",
    "name = \"Model8_investlist__approach12.dat\"\n",
    "file = open(name,\"wb\") \n",
    "pickle.dump(investlist,file)\n",
    "file.close()\n",
    "\n",
    "name = \"Model8_lambda__approach12.dat\"\n",
    "file = open(name,\"wb\") \n",
    "pickle.dump(lamd,file)\n",
    "file.close()\n",
    "\n",
    "\n",
    "\n",
    "\n",
    "for i in range(len(Ntlist)):\n",
    "    investlist[i][0]=0.001\n",
    "    plt.plot(investlist[i],numpy.log(Ntlist[i])/numpy.log(10) )\n",
    "\n",
    "x1 = numpy.linspace(0.1,200,200)\n",
    "x2 = numpy.linspace(205,50000,500)\n",
    "x = numpy.array(x1.tolist()+x2.tolist())\n",
    "\n",
    "y = numpy.zeros(len(x))\n",
    "\n",
    "for i in range(len(x)):\n",
    "    if x[i] <= 25:\n",
    "        y[i] = 1500000*2*numpy.exp(-0.2*x[i])\n",
    "    else:\n",
    "        y[i] = 1500000*2*numpy.exp(-0.2*25)\n",
    "\n",
    "        \n",
    "plt.plot(x,numpy.log(y)/numpy.log(10),'k--')\n",
    "\n",
    "\n",
    "\n",
    "plt.xlim(0,50)\n",
    "plt.ylim(3,7)\n",
    "\n"
   ]
  },
  {
   "cell_type": "code",
   "execution_count": null,
   "id": "6d8c7b78",
   "metadata": {},
   "outputs": [],
   "source": []
  },
  {
   "cell_type": "code",
   "execution_count": null,
   "id": "0cba4dc7",
   "metadata": {},
   "outputs": [],
   "source": []
  },
  {
   "cell_type": "code",
   "execution_count": 7,
   "id": "6d686b48",
   "metadata": {},
   "outputs": [
    {
     "data": {
      "text/plain": [
       "(0.02, 0.04, 0.0)"
      ]
     },
     "execution_count": 7,
     "metadata": {},
     "output_type": "execute_result"
    }
   ],
   "source": [
    "0.01,0.02,0.04,0.08,0.16,0.32,0.64,1.28, 6.4, 32,160,800"
   ]
  },
  {
   "cell_type": "code",
   "execution_count": null,
   "id": "0df1b21e",
   "metadata": {},
   "outputs": [],
   "source": [
    " 0.32, 1.28,  5.12,  20.48, 81.92, 327.68, 1310.72, 5242.88,20971.52"
   ]
  },
  {
   "cell_type": "code",
   "execution_count": 67,
   "id": "62203487",
   "metadata": {},
   "outputs": [
    {
     "data": {
      "text/plain": [
       "20971.52"
      ]
     },
     "execution_count": 67,
     "metadata": {},
     "output_type": "execute_result"
    }
   ],
   "source": [
    "5242.88*4"
   ]
  },
  {
   "cell_type": "code",
   "execution_count": 32,
   "id": "e5f2745b",
   "metadata": {},
   "outputs": [
    {
     "data": {
      "text/plain": [
       "array([64.14252338, 58.23453269, 52.2119582 , 45.85952128, 38.76402583,\n",
       "       30.50052945, 19.91144792,  8.23777554,  0.        ,  1.07829368,\n",
       "        1.00290406,  1.02182758,  1.04075111])"
      ]
     },
     "execution_count": 32,
     "metadata": {},
     "output_type": "execute_result"
    }
   ],
   "source": [
    "sol"
   ]
  },
  {
   "cell_type": "code",
   "execution_count": null,
   "id": "14829398",
   "metadata": {},
   "outputs": [],
   "source": []
  },
  {
   "cell_type": "code",
   "execution_count": null,
   "id": "dce7cfe5",
   "metadata": {},
   "outputs": [],
   "source": []
  },
  {
   "cell_type": "code",
   "execution_count": 53,
   "id": "a91bae33",
   "metadata": {},
   "outputs": [
    {
     "data": {
      "text/plain": [
       "[1.0786091078001612,\n",
       " 3.4638044173953917,\n",
       " 9.67626707257374,\n",
       " 22.32915670770886,\n",
       " 30.55818194718219,\n",
       " 36.36755358571618,\n",
       " 133.8103520045674,\n",
       " 427.75043830534565,\n",
       " 1601.0697172454725,\n",
       " 6903.283981617376,\n",
       " 26883.863374471897,\n",
       " 221263.34806880116]"
      ]
     },
     "execution_count": 53,
     "metadata": {},
     "output_type": "execute_result"
    }
   ],
   "source": [
    "tcheck"
   ]
  },
  {
   "cell_type": "code",
   "execution_count": null,
   "id": "d43e8e38",
   "metadata": {},
   "outputs": [],
   "source": []
  },
  {
   "cell_type": "code",
   "execution_count": null,
   "id": "84a6121f",
   "metadata": {},
   "outputs": [],
   "source": []
  },
  {
   "cell_type": "code",
   "execution_count": null,
   "id": "f6ef00b7",
   "metadata": {},
   "outputs": [],
   "source": []
  },
  {
   "cell_type": "code",
   "execution_count": 25,
   "id": "2e7aea17",
   "metadata": {},
   "outputs": [
    {
     "data": {
      "text/plain": [
       "[0.025,\n",
       " 0.1,\n",
       " 0.4,\n",
       " 1.6,\n",
       " 6.4,\n",
       " 25.6,\n",
       " 102.4,\n",
       " 409,\n",
       " 6,\n",
       " 1638.4,\n",
       " 6553.6,\n",
       " 26214.4,\n",
       " 251107.98701957328]"
      ]
     },
     "execution_count": 25,
     "metadata": {},
     "output_type": "execute_result"
    }
   ],
   "source": [
    "tildetcheck"
   ]
  },
  {
   "cell_type": "code",
   "execution_count": 26,
   "id": "ff369d90",
   "metadata": {},
   "outputs": [
    {
     "data": {
      "text/plain": [
       "[3.11356783919598,\n",
       " 8.136180904522613,\n",
       " 14.163316582914574,\n",
       " 20.190452261306532,\n",
       " 27.22211055276382,\n",
       " 47.312562814070354,\n",
       " 124.6608040201005,\n",
       " 504.36873747494985,\n",
       " 27.22211055276382,\n",
       " 1701.8436873747494,\n",
       " 6691.322645290581,\n",
       " 26549.448897795588,\n",
       " 50000.0]"
      ]
     },
     "execution_count": 26,
     "metadata": {},
     "output_type": "execute_result"
    }
   ],
   "source": [
    "cumsuminv = numpy.zeros(len(y))\n",
    "for i in range(len(x)-1):\n",
    "    cumsuminv[i+1] = cumsuminv[i] + 1/y[i]*(x[i+1]-x[i])\n",
    "\n",
    "\n",
    "t_true =[]\n",
    "for i in range(len(tildetcheck)):\n",
    "    ind = find_s_s(tildetcheck[i]/20000,cumsuminv)\n",
    "    if ind == len(x):\n",
    "        ind = ind-1\n",
    "    t_true.append(x[ind])\n",
    "\n",
    "\n",
    "t_true\n"
   ]
  },
  {
   "cell_type": "code",
   "execution_count": null,
   "id": "1637630d",
   "metadata": {},
   "outputs": [],
   "source": []
  },
  {
   "cell_type": "code",
   "execution_count": null,
   "id": "78c1328f",
   "metadata": {},
   "outputs": [],
   "source": [
    "3.2    "
   ]
  },
  {
   "cell_type": "code",
   "execution_count": null,
   "id": "d26b42ab",
   "metadata": {},
   "outputs": [],
   "source": [
    "0.025 0.05 0.1 0.2 0.4 0.8 1.6 3.2 6.4 32 160 800 4000 20000 100000"
   ]
  },
  {
   "cell_type": "code",
   "execution_count": 19,
   "id": "d9d124ca",
   "metadata": {},
   "outputs": [
    {
     "data": {
      "text/plain": [
       "4000.0"
      ]
     },
     "execution_count": 19,
     "metadata": {},
     "output_type": "execute_result"
    }
   ],
   "source": [
    "6.4*5*5*5*5"
   ]
  },
  {
   "cell_type": "code",
   "execution_count": 21,
   "id": "8b0bff12",
   "metadata": {},
   "outputs": [
    {
     "data": {
      "text/plain": [
       "3162277.6601683795"
      ]
     },
     "execution_count": 21,
     "metadata": {},
     "output_type": "execute_result"
    }
   ],
   "source": []
  },
  {
   "cell_type": "code",
   "execution_count": null,
   "id": "69f33543",
   "metadata": {},
   "outputs": [],
   "source": []
  },
  {
   "cell_type": "code",
   "execution_count": 2,
   "id": "bae18615",
   "metadata": {},
   "outputs": [
    {
     "name": "stderr",
     "output_type": "stream",
     "text": [
      "/tmp/ipykernel_934/2835203446.py:97: RuntimeWarning: divide by zero encountered in log\n",
      "  plt.plot(investlist[i],numpy.log(numpy.array(Ntlist[i]))/numpy.log(10))\n",
      "/tmp/ipykernel_934/2835203446.py:97: RuntimeWarning: divide by zero encountered in log\n",
      "  plt.plot(investlist[i],numpy.log(numpy.array(Ntlist[i]))/numpy.log(10))\n",
      "/tmp/ipykernel_934/2835203446.py:97: RuntimeWarning: divide by zero encountered in log\n",
      "  plt.plot(investlist[i],numpy.log(numpy.array(Ntlist[i]))/numpy.log(10))\n",
      "/tmp/ipykernel_934/2835203446.py:97: RuntimeWarning: divide by zero encountered in log\n",
      "  plt.plot(investlist[i],numpy.log(numpy.array(Ntlist[i]))/numpy.log(10))\n",
      "/tmp/ipykernel_934/2835203446.py:97: RuntimeWarning: divide by zero encountered in log\n",
      "  plt.plot(investlist[i],numpy.log(numpy.array(Ntlist[i]))/numpy.log(10))\n",
      "/tmp/ipykernel_934/2835203446.py:97: RuntimeWarning: divide by zero encountered in log\n",
      "  plt.plot(investlist[i],numpy.log(numpy.array(Ntlist[i]))/numpy.log(10))\n",
      "/tmp/ipykernel_934/2835203446.py:97: RuntimeWarning: divide by zero encountered in log\n",
      "  plt.plot(investlist[i],numpy.log(numpy.array(Ntlist[i]))/numpy.log(10))\n",
      "/tmp/ipykernel_934/2835203446.py:97: RuntimeWarning: divide by zero encountered in log\n",
      "  plt.plot(investlist[i],numpy.log(numpy.array(Ntlist[i]))/numpy.log(10))\n",
      "/tmp/ipykernel_934/2835203446.py:97: RuntimeWarning: divide by zero encountered in log\n",
      "  plt.plot(investlist[i],numpy.log(numpy.array(Ntlist[i]))/numpy.log(10))\n",
      "/tmp/ipykernel_934/2835203446.py:97: RuntimeWarning: divide by zero encountered in log\n",
      "  plt.plot(investlist[i],numpy.log(numpy.array(Ntlist[i]))/numpy.log(10))\n",
      "/tmp/ipykernel_934/2835203446.py:97: RuntimeWarning: divide by zero encountered in log\n",
      "  plt.plot(investlist[i],numpy.log(numpy.array(Ntlist[i]))/numpy.log(10))\n",
      "/tmp/ipykernel_934/2835203446.py:97: RuntimeWarning: divide by zero encountered in log\n",
      "  plt.plot(investlist[i],numpy.log(numpy.array(Ntlist[i]))/numpy.log(10))\n",
      "/tmp/ipykernel_934/2835203446.py:97: RuntimeWarning: divide by zero encountered in log\n",
      "  plt.plot(investlist[i],numpy.log(numpy.array(Ntlist[i]))/numpy.log(10))\n",
      "/tmp/ipykernel_934/2835203446.py:97: RuntimeWarning: divide by zero encountered in log\n",
      "  plt.plot(investlist[i],numpy.log(numpy.array(Ntlist[i]))/numpy.log(10))\n",
      "/tmp/ipykernel_934/2835203446.py:97: RuntimeWarning: divide by zero encountered in log\n",
      "  plt.plot(investlist[i],numpy.log(numpy.array(Ntlist[i]))/numpy.log(10))\n",
      "/tmp/ipykernel_934/2835203446.py:97: RuntimeWarning: divide by zero encountered in log\n",
      "  plt.plot(investlist[i],numpy.log(numpy.array(Ntlist[i]))/numpy.log(10))\n",
      "/tmp/ipykernel_934/2835203446.py:97: RuntimeWarning: divide by zero encountered in log\n",
      "  plt.plot(investlist[i],numpy.log(numpy.array(Ntlist[i]))/numpy.log(10))\n",
      "/tmp/ipykernel_934/2835203446.py:97: RuntimeWarning: divide by zero encountered in log\n",
      "  plt.plot(investlist[i],numpy.log(numpy.array(Ntlist[i]))/numpy.log(10))\n",
      "/tmp/ipykernel_934/2835203446.py:97: RuntimeWarning: divide by zero encountered in log\n",
      "  plt.plot(investlist[i],numpy.log(numpy.array(Ntlist[i]))/numpy.log(10))\n",
      "/tmp/ipykernel_934/2835203446.py:97: RuntimeWarning: divide by zero encountered in log\n",
      "  plt.plot(investlist[i],numpy.log(numpy.array(Ntlist[i]))/numpy.log(10))\n",
      "/tmp/ipykernel_934/2835203446.py:97: RuntimeWarning: divide by zero encountered in log\n",
      "  plt.plot(investlist[i],numpy.log(numpy.array(Ntlist[i]))/numpy.log(10))\n",
      "/tmp/ipykernel_934/2835203446.py:97: RuntimeWarning: divide by zero encountered in log\n",
      "  plt.plot(investlist[i],numpy.log(numpy.array(Ntlist[i]))/numpy.log(10))\n",
      "/tmp/ipykernel_934/2835203446.py:97: RuntimeWarning: divide by zero encountered in log\n",
      "  plt.plot(investlist[i],numpy.log(numpy.array(Ntlist[i]))/numpy.log(10))\n",
      "/tmp/ipykernel_934/2835203446.py:97: RuntimeWarning: divide by zero encountered in log\n",
      "  plt.plot(investlist[i],numpy.log(numpy.array(Ntlist[i]))/numpy.log(10))\n",
      "/tmp/ipykernel_934/2835203446.py:97: RuntimeWarning: divide by zero encountered in log\n",
      "  plt.plot(investlist[i],numpy.log(numpy.array(Ntlist[i]))/numpy.log(10))\n",
      "/tmp/ipykernel_934/2835203446.py:97: RuntimeWarning: divide by zero encountered in log\n",
      "  plt.plot(investlist[i],numpy.log(numpy.array(Ntlist[i]))/numpy.log(10))\n",
      "/tmp/ipykernel_934/2835203446.py:97: RuntimeWarning: divide by zero encountered in log\n",
      "  plt.plot(investlist[i],numpy.log(numpy.array(Ntlist[i]))/numpy.log(10))\n",
      "/tmp/ipykernel_934/2835203446.py:97: RuntimeWarning: divide by zero encountered in log\n",
      "  plt.plot(investlist[i],numpy.log(numpy.array(Ntlist[i]))/numpy.log(10))\n",
      "/tmp/ipykernel_934/2835203446.py:97: RuntimeWarning: divide by zero encountered in log\n",
      "  plt.plot(investlist[i],numpy.log(numpy.array(Ntlist[i]))/numpy.log(10))\n",
      "/tmp/ipykernel_934/2835203446.py:97: RuntimeWarning: divide by zero encountered in log\n",
      "  plt.plot(investlist[i],numpy.log(numpy.array(Ntlist[i]))/numpy.log(10))\n"
     ]
    },
    {
     "data": {
      "text/plain": [
       "(0.0, 50.0)"
      ]
     },
     "execution_count": 2,
     "metadata": {},
     "output_type": "execute_result"
    },
    {
     "data": {
      "image/png": "[encoded data removed]",
      "text/plain": [
       "<Figure size 432x288 with 1 Axes>"
      ]
     },
     "metadata": {
      "needs_background": "light"
     },
     "output_type": "display_data"
    }
   ],
   "source": [
    "\n",
    "import statistics\n",
    "import msprime\n",
    "from IPython.display import SVG, display\n",
    "import tsinfer\n",
    "import scipy\n",
    "import math\n",
    "import numpy\n",
    "import tskit\n",
    "import io\n",
    "import builtins\n",
    "import sys\n",
    "from tqdm.notebook import tqdm\n",
    "from tskit import MISSING_DATA\n",
    "import pickle\n",
    "import random\n",
    "from sklearn.linear_model import LinearRegression\n",
    "from sklearn.linear_model import Lasso\n",
    "from sklearn.linear_model import LassoCV\n",
    "from sklearn.linear_model import LassoLarsIC\n",
    "from sklearn.linear_model import LassoLarsIC\n",
    "import matplotlib.pyplot as plt\n",
    "import cvxopt as opt\n",
    "from cvxopt import matrix, spmatrix, sparse\n",
    "from cvxopt.solvers import qp, options\n",
    "from cvxopt import blas\n",
    "from cvxopt import spdiag\n",
    "import statsmodels\n",
    "from statsmodels.nonparametric.kernel_regression import KernelReg\n",
    "from scipy.signal import savgol_filter\n",
    "from sklearn.linear_model import Ridge\n",
    "from sklearn.linear_model import RidgeCV\n",
    "import time\n",
    "import bisect\n",
    "\n",
    "name = \"Model8_ave_time_approach12.dat\"\n",
    "file = open(name,\"rb\") \n",
    "ave_time = pickle.load(file)\n",
    "file.close()   \n",
    "\n",
    "name = \"Model8_Ntlist_approach12.dat\"\n",
    "file = open(name,\"rb\") \n",
    "Ntlist = pickle.load(file)\n",
    "file.close()\n",
    "\n",
    "name = \"Model8_investlist__approach12.dat\"\n",
    "file = open(name,\"rb\") \n",
    "investlist = pickle.load(file)\n",
    "file.close()\n",
    "\n",
    "\n",
    "def find_s_s(elem, sorted_list):\n",
    "    'Locate the leftmost value smaller or equal to x'\n",
    "    i = bisect.bisect_left(sorted_list, elem)\n",
    "    if i != 0:\n",
    "        return i\n",
    "    else:\n",
    "        return 0\n",
    "\n",
    "\n",
    "    \n",
    "\n",
    "allx = numpy.array( [*range(400)] )\n",
    "ally = numpy.zeros( (len(Ntlist),len([*range(400)]) ) )\n",
    "\n",
    "\n",
    "for i in range(len(Ntlist)):\n",
    "    tpoint = [0]\n",
    "    Npoint = []\n",
    "    for j in range(len(investlist[i])):\n",
    "        if j % 2 == 1:\n",
    "            tpoint.append(investlist[i][j])\n",
    "    for j in range(len(Ntlist[i])):\n",
    "        if j % 2 == 1:\n",
    "            Npoint.append(Ntlist[i][j])\n",
    "\n",
    "    pxpoint = [0] \n",
    "    pypoint = [Npoint[0]]\n",
    "    for j in range(len(tpoint)-1):\n",
    "        pxpoint.append( (tpoint[j] + tpoint[j+1])/2 )\n",
    "        pypoint.append( Npoint[j] )\n",
    "\n",
    "    xp_dense = numpy.arange(0,max(pxpoint))\n",
    "    yp_dense = numpy.arange(0,max(pxpoint))\n",
    "    \n",
    "    for k in range(1,len(xp_dense)-1):\n",
    "        ind = find_s_s(xp_dense[k],pxpoint)\n",
    "        firstx = pxpoint[ind-1]\n",
    "        secondx = pxpoint[ind]\n",
    "        firsty = pypoint[ind-1]\n",
    "        secondy = pypoint[ind]\n",
    "        yp_dense[k] = firsty + (secondy-firsty)/(secondx-firstx)*(xp_dense[k]-firstx)\n",
    "        \n",
    "        \n",
    "    investlist[i] = xp_dense\n",
    "    Ntlist[i] = yp_dense\n",
    "    \n",
    "    plt.plot(investlist[i],numpy.log(numpy.array(Ntlist[i]))/numpy.log(10))\n",
    "\n",
    "    # for i in range(len(Ntlist)):\n",
    "    #     tt = investlist[i]\n",
    "    #     yy = Ntlist[i]\n",
    "    #     for j in range(len(allx)):\n",
    "    #         ind = find_s_s(allx[j],tt)\n",
    "    #         ally[i,j] = yy[ind]\n",
    "\n",
    "    # avey = numpy.zeros( len(ally[0]) )\n",
    "    # # upy = numpy.zeros( len(ally[0]) )\n",
    "    # # lowy = numpy.zeros( len(ally[0]) )\n",
    "\n",
    "    # for j in range(len(avey)):\n",
    "    #     ycollect = ally[:,j]\n",
    "    #     avey[j] = statistics.mean(ycollect)\n",
    "    # #     upy[j] = avey[j] + 2*statistics.stdev(ycollect)/numpy.sqrt(len(Ntlist))\n",
    "    # #     lowy[j] = avey[j] - 2*statistics.stdev(ycollect)/numpy.sqrt(len(Ntlist))\n",
    "    # #     upy[j] = avey[j] + 2*statistics.stdev(ycollect)/4\n",
    "    # #     lowy[j] = avey[j] - 2*statistics.stdev(ycollect)/4\n",
    "\n",
    "\n",
    "\n",
    "    # plt.plot(allx,numpy.log(numpy.array(avey)/2)/numpy.log(10))   \n",
    "    # # plt.plot(allx,numpy.log(numpy.array(lowy)/2)/numpy.log(10),'k',alpha=0.5 )\n",
    "    # # plt.plot(allx,numpy.log(numpy.array(upy)/2)/numpy.log(10),'k',alpha=0.5  )\n",
    "    # # plt.fill_between(allx,numpy.log(numpy.array(lowy)/2)/numpy.log(10),numpy.log(numpy.array(upy)/2)/numpy.log(10)\\\n",
    "    # #                 ,alpha=0.3,color='gray',label=r\"95$\\%$ CI\")\n",
    "\n",
    "\n",
    "\n",
    "\n",
    "\n",
    "\n",
    "\n",
    "\n",
    "x1 = numpy.linspace(0.1,200,200)\n",
    "x2 = numpy.linspace(205,50000,500)\n",
    "x = numpy.array(x1.tolist()+x2.tolist())\n",
    "\n",
    "y = numpy.zeros(len(x))\n",
    "\n",
    "for i in range(len(x)):\n",
    "    if x[i] <= 25:\n",
    "        y[i] = 1500000*2*numpy.exp(-0.2*x[i])\n",
    "    else:\n",
    "        y[i] = 1500000*2*numpy.exp(-0.2*25)\n",
    "\n",
    "        \n",
    "plt.plot(x,numpy.log(y)/numpy.log(10),'k--')\n",
    "\n",
    "# plt.legend(loc=\"upper right\",fontsize = 20)\n",
    "plt.ylabel(r\"$N(g)/2$\",fontsize =24)\n",
    "plt.xlabel(\"Generations ago\",fontsize=24)\n",
    "# plt.xticks([0, 10000,20000,30000,40000],[])\n",
    "plt.xticks([0, 50, 100,150,200],\\\n",
    "           fontsize=18)\n",
    "plt.yticks([3,4,5,6,7],\\\n",
    "           [r'$10^3$','$10^4$','$10^5$','$10^6$','$10^7$'],\\\n",
    "           fontsize=18)\n",
    "plt.title(\"Exponential growth\",fontsize=24)\n",
    "#\n",
    "plt.ylim(3,7)\n",
    "plt.xlim(0,50)\n",
    "\n",
    "# print(\"average time\", ave_time)\n",
    "\n",
    "\n"
   ]
  },
  {
   "cell_type": "code",
   "execution_count": 4,
   "id": "97890ccb",
   "metadata": {},
   "outputs": [
    {
     "data": {
      "text/plain": [
       "30"
      ]
     },
     "execution_count": 4,
     "metadata": {},
     "output_type": "execute_result"
    }
   ],
   "source": [
    "len(Ntlist)"
   ]
  },
  {
   "cell_type": "code",
   "execution_count": null,
   "id": "59fdc744",
   "metadata": {},
   "outputs": [],
   "source": []
  },
  {
   "cell_type": "code",
   "execution_count": null,
   "id": "f08f14c7",
   "metadata": {},
   "outputs": [],
   "source": []
  },
  {
   "cell_type": "code",
   "execution_count": null,
   "id": "3272999f",
   "metadata": {},
   "outputs": [],
   "source": []
  },
  {
   "cell_type": "code",
   "execution_count": 7,
   "id": "ae278ae9",
   "metadata": {},
   "outputs": [
    {
     "data": {
      "text/plain": [
       "[0.025,\n",
       " 0.1,\n",
       " 0.4,\n",
       " 1.6,\n",
       " 6.4,\n",
       " 25.6,\n",
       " 102.4,\n",
       " 409.6,\n",
       " 1638.4,\n",
       " 6553.6,\n",
       " 26214.4,\n",
       " 317111.44602148765]"
      ]
     },
     "execution_count": 7,
     "metadata": {},
     "output_type": "execute_result"
    }
   ],
   "source": [
    "tildetcheck"
   ]
  },
  {
   "cell_type": "code",
   "execution_count": 8,
   "id": "87fd7925",
   "metadata": {},
   "outputs": [
    {
     "ename": "NameError",
     "evalue": "name 'tcheck_true' is not defined",
     "output_type": "error",
     "traceback": [
      "\u001b[0;31m---------------------------------------------------------------------------\u001b[0m",
      "\u001b[0;31mNameError\u001b[0m                                 Traceback (most recent call last)",
      "Input \u001b[0;32mIn [8]\u001b[0m, in \u001b[0;36m<cell line: 1>\u001b[0;34m()\u001b[0m\n\u001b[0;32m----> 1\u001b[0m \u001b[43mtcheck_true\u001b[49m\n",
      "\u001b[0;31mNameError\u001b[0m: name 'tcheck_true' is not defined"
     ]
    }
   ],
   "source": [
    "tcheck_true"
   ]
  },
  {
   "cell_type": "code",
   "execution_count": 163,
   "id": "be1ba1f2",
   "metadata": {},
   "outputs": [
    {
     "data": {
      "text/plain": [
       "(0.0, 200.0)"
      ]
     },
     "execution_count": 163,
     "metadata": {},
     "output_type": "execute_result"
    },
    {
     "data": {
      "image/png": "[encoded data removed]",
      "text/plain": [
       "<Figure size 432x288 with 1 Axes>"
      ]
     },
     "metadata": {
      "needs_background": "light"
     },
     "output_type": "display_data"
    }
   ],
   "source": [
    "x = numpy.linspace(0,149,150)\n",
    "y = numpy.zeros(len(x))\n",
    "y[-1]= 10000\n",
    "rate_at_x=numpy.zeros(len(x))\n",
    "for i in range(len(rate_at_x)):\n",
    "    rate_at_x[i] = growthr[ int(x[i]) ]\n",
    "\n",
    "for i in range(len(x)-1):\n",
    "    y[-i-2] = y[-i-1]*numpy.exp(rate_at_x[-i-1])\n",
    "    \n",
    "xx1 = [150,200]\n",
    "yy1 = [10000,10000]\n",
    "    \n",
    "    \n",
    "plt.plot(x,numpy.log(y)/numpy.log(10),'k--')\n",
    "plt.plot(xx1,numpy.log(yy1)/numpy.log(10),'k--')\n",
    "\n",
    "\n",
    "plt.ylim(3,7)\n",
    "plt.xlim(0,200)\n"
   ]
  },
  {
   "cell_type": "code",
   "execution_count": null,
   "id": "69a12402",
   "metadata": {},
   "outputs": [],
   "source": []
  },
  {
   "cell_type": "code",
   "execution_count": 86,
   "id": "e70eeff6",
   "metadata": {},
   "outputs": [
    {
     "data": {
      "text/plain": [
       "[4.796379699760614,\n",
       " 9.02510009899298,\n",
       " 16.194418057982638,\n",
       " 26.91908421399919,\n",
       " 39.09656868650451,\n",
       " 46.73460869600709,\n",
       " 48.93887981275292,\n",
       " 61.3716089618941,\n",
       " 97.39936161918251,\n",
       " 97.39936161918251,\n",
       " 389.5029163763349,\n",
       " 1083.5134606759186,\n",
       " 9350.035875503403,\n",
       " 17351.828108584763,\n",
       " -285021.50123252656]"
      ]
     },
     "execution_count": 86,
     "metadata": {},
     "output_type": "execute_result"
    }
   ],
   "source": [
    "tcheck"
   ]
  },
  {
   "cell_type": "code",
   "execution_count": 51,
   "id": "8fcff8cb",
   "metadata": {},
   "outputs": [
    {
     "data": {
      "text/plain": [
       "array([77.19248628, 20.96567292,  0.        ,  0.        ,  2.20324889,\n",
       "        0.27914568,  0.59024402,  0.29476969,  0.6872213 ,  0.13355292,\n",
       "       -0.7892277 ])"
      ]
     },
     "execution_count": 51,
     "metadata": {},
     "output_type": "execute_result"
    }
   ],
   "source": [
    "sol"
   ]
  },
  {
   "cell_type": "code",
   "execution_count": 9,
   "id": "9749b8e0",
   "metadata": {},
   "outputs": [
    {
     "name": "stdout",
     "output_type": "stream",
     "text": [
      "0.4873397172404482\n",
      "0.9682458365518543\n",
      "1.9364916731037085\n",
      "3.872983346207417\n",
      "7.745966692414834\n",
      "15.491933384829668\n",
      "30.983866769659336\n",
      "61.96773353931867\n",
      "123.93546707863734\n",
      "409.3493898990736\n"
     ]
    }
   ],
   "source": [
    "for i in range(len(PXmat)):\n",
    "    print( numpy.sqrt(0.5*It_list[i] + 0.5*It_list[i+2] + It_list[i+1]) )"
   ]
  },
  {
   "cell_type": "code",
   "execution_count": 73,
   "id": "43d155ac",
   "metadata": {},
   "outputs": [
    {
     "name": "stdout",
     "output_type": "stream",
     "text": [
      "0.8\n",
      "1.0\n",
      "3.0\n",
      "20.0\n",
      "100.0\n",
      "475.0\n",
      "2400.0\n",
      "12000.0\n",
      "60000.0\n"
     ]
    }
   ],
   "source": [
    "for i in range(len(PXmat)):\n",
    "    print( It_list[i+1])  "
   ]
  },
  {
   "cell_type": "code",
   "execution_count": 76,
   "id": "459b6f3b",
   "metadata": {},
   "outputs": [
    {
     "name": "stdout",
     "output_type": "stream",
     "text": [
      "0.5\n",
      "1.5811388300841898\n",
      "5.0\n",
      "15.811388300841896\n",
      "50.0\n",
      "158.11388300841898\n",
      "500.0\n",
      "1581.1388300841897\n",
      "5000.0\n"
     ]
    }
   ],
   "source": [
    "for i in range(len(PXmat)):\n",
    "    print( 10**(i/2)/2 )  "
   ]
  },
  {
   "cell_type": "code",
   "execution_count": 79,
   "id": "fc353cc6",
   "metadata": {},
   "outputs": [
    {
     "data": {
      "text/plain": [
       "256.0"
      ]
     },
     "execution_count": 79,
     "metadata": {},
     "output_type": "execute_result"
    }
   ],
   "source": [
    "51.2*5"
   ]
  },
  {
   "cell_type": "code",
   "execution_count": 81,
   "id": "97bd4a67",
   "metadata": {},
   "outputs": [
    {
     "data": {
      "text/plain": [
       "1280.0"
      ]
     },
     "execution_count": 81,
     "metadata": {},
     "output_type": "execute_result"
    }
   ],
   "source": [
    "51.2*5*5"
   ]
  },
  {
   "cell_type": "code",
   "execution_count": 82,
   "id": "9aa6bfec",
   "metadata": {},
   "outputs": [
    {
     "data": {
      "text/plain": [
       "6400.0"
      ]
     },
     "execution_count": 82,
     "metadata": {},
     "output_type": "execute_result"
    }
   ],
   "source": [
    "51.2*5*5*5"
   ]
  },
  {
   "cell_type": "code",
   "execution_count": 83,
   "id": "5043798a",
   "metadata": {},
   "outputs": [
    {
     "data": {
      "text/plain": [
       "32000.0"
      ]
     },
     "execution_count": 83,
     "metadata": {},
     "output_type": "execute_result"
    }
   ],
   "source": [
    "51.2*5*5*5*5"
   ]
  },
  {
   "cell_type": "code",
   "execution_count": 84,
   "id": "12b65be8",
   "metadata": {},
   "outputs": [
    {
     "data": {
      "text/plain": [
       "160000.0"
      ]
     },
     "execution_count": 84,
     "metadata": {},
     "output_type": "execute_result"
    }
   ],
   "source": [
    "51.2*5*5*5*5*5"
   ]
  },
  {
   "cell_type": "code",
   "execution_count": null,
   "id": "65710d60",
   "metadata": {},
   "outputs": [],
   "source": []
  },
  {
   "cell_type": "code",
   "execution_count": null,
   "id": "b03fd3ef",
   "metadata": {},
   "outputs": [],
   "source": []
  },
  {
   "cell_type": "code",
   "execution_count": 14,
   "id": "e289461e",
   "metadata": {},
   "outputs": [],
   "source": [
    "changepoint = [*range(101)]\n",
    "growthr = 0.1-numpy.array([*range(101)] )*0.001\n",
    "\n",
    "pop_ini_size = 1411749\n",
    "demo_model = msprime.Demography.isolated_model([pop_ini_size], growth_rate=[growthr[0]])\n",
    "for i in range(1,len(changepoint)):\n",
    "    demo_model.add_population_parameters_change(changepoint[i], initial_size=None, growth_rate=growthr[i], population=None)\n",
    "\n"
   ]
  },
  {
   "cell_type": "code",
   "execution_count": 15,
   "id": "3733ce3f",
   "metadata": {},
   "outputs": [
    {
     "data": {
      "text/html": [
       "<div style=\"margin-left:20px\"><div><style scoped=\"\">\n",
       "            .tskit-table thead tr th:only-of-type {vertical-align: middle;}\n",
       "            .tskit-table thead tr th {text-align: center;vertical-align: top;}\n",
       "            .tskit-table tbody td {text-align: right;padding: 0.5em 0.5em;}\n",
       "            .tskit-table tbody th {padding: 0.5em 0.5em;}\n",
       "        </style><b>Populations (1)</b><table border=\"1\" class=\"tskit-table\"><thead><tr><th>id</th><th>name</th><th>description</th><th>initial_size</th><th>growth_rate</th><th>default_sampling_time</th><th>extra_metadata</th></tr></thead><tbody><tr><td>0</td><td>pop_0</td><td></td><td>1411749.0</td><td>0.1</td><td>0</td><td>{}</td></tr></tbody></table></div><div><style scoped=\"\">\n",
       "            .tskit-table thead tr th:only-of-type {vertical-align: middle;}\n",
       "            .tskit-table thead tr th {text-align: center;vertical-align: top;}\n",
       "            .tskit-table tbody td {text-align: right;padding: 0.5em 0.5em;}\n",
       "            .tskit-table tbody th {padding: 0.5em 0.5em;}\n",
       "        </style><b>Migration matrix (all zero)</b><table border=\"1\" class=\"tskit-table\"><thead><tr></tr></thead><tbody></tbody></table></div><div><style scoped=\"\">\n",
       "            .tskit-table thead tr th:only-of-type {vertical-align: middle;}\n",
       "            .tskit-table thead tr th {text-align: center;vertical-align: top;}\n",
       "            .tskit-table tbody td {text-align: right;padding: 0.5em 0.5em;}\n",
       "            .tskit-table tbody th {padding: 0.5em 0.5em;}\n",
       "        </style><b>Events (100)</b><table border=\"1\" class=\"tskit-table\"><thead><tr><th>time</th><th>type</th><th>parameters</th><th>effect</th></tr></thead><tbody><tr><td>1</td><td><a href='https://tskit.dev/msprime/docs/latest/api.html#msprime.Demography.add_population_parameters_change'>Population parameter change</a></td><td>population=-1, growth_rate=0.099</td><td>growth_rate → 0.099 for all populations</td></tr><tr><td>2</td><td><a href='https://tskit.dev/msprime/docs/latest/api.html#msprime.Demography.add_population_parameters_change'>Population parameter change</a></td><td>population=-1, growth_rate=0.098</td><td>growth_rate → 0.098 for all populations</td></tr><tr><td>3</td><td><a href='https://tskit.dev/msprime/docs/latest/api.html#msprime.Demography.add_population_parameters_change'>Population parameter change</a></td><td>population=-1, growth_rate=0.097</td><td>growth_rate → 0.097 for all populations</td></tr><tr><td>4</td><td><a href='https://tskit.dev/msprime/docs/latest/api.html#msprime.Demography.add_population_parameters_change'>Population parameter change</a></td><td>population=-1, growth_rate=0.096</td><td>growth_rate → 0.096 for all populations</td></tr><tr><td>5</td><td><a href='https://tskit.dev/msprime/docs/latest/api.html#msprime.Demography.add_population_parameters_change'>Population parameter change</a></td><td>population=-1, growth_rate=0.095</td><td>growth_rate → 0.095 for all populations</td></tr><tr><td>6</td><td><a href='https://tskit.dev/msprime/docs/latest/api.html#msprime.Demography.add_population_parameters_change'>Population parameter change</a></td><td>population=-1, growth_rate=0.094</td><td>growth_rate → 0.094 for all populations</td></tr><tr><td>7</td><td><a href='https://tskit.dev/msprime/docs/latest/api.html#msprime.Demography.add_population_parameters_change'>Population parameter change</a></td><td>population=-1, growth_rate=0.093</td><td>growth_rate → 0.093 for all populations</td></tr><tr><td>8</td><td><a href='https://tskit.dev/msprime/docs/latest/api.html#msprime.Demography.add_population_parameters_change'>Population parameter change</a></td><td>population=-1, growth_rate=0.092</td><td>growth_rate → 0.092 for all populations</td></tr><tr><td>9</td><td><a href='https://tskit.dev/msprime/docs/latest/api.html#msprime.Demography.add_population_parameters_change'>Population parameter change</a></td><td>population=-1, growth_rate=0.091</td><td>growth_rate → 0.091 for all populations</td></tr><tr><td>10</td><td><a href='https://tskit.dev/msprime/docs/latest/api.html#msprime.Demography.add_population_parameters_change'>Population parameter change</a></td><td>population=-1, growth_rate=0.09000000000000001</td><td>growth_rate → 0.09 for all populations</td></tr><tr><td>11</td><td><a href='https://tskit.dev/msprime/docs/latest/api.html#msprime.Demography.add_population_parameters_change'>Population parameter change</a></td><td>population=-1, growth_rate=0.08900000000000001</td><td>growth_rate → 0.089 for all populations</td></tr><tr><td>12</td><td><a href='https://tskit.dev/msprime/docs/latest/api.html#msprime.Demography.add_population_parameters_change'>Population parameter change</a></td><td>population=-1, growth_rate=0.08800000000000001</td><td>growth_rate → 0.088 for all populations</td></tr><tr><td>13</td><td><a href='https://tskit.dev/msprime/docs/latest/api.html#msprime.Demography.add_population_parameters_change'>Population parameter change</a></td><td>population=-1, growth_rate=0.08700000000000001</td><td>growth_rate → 0.087 for all populations</td></tr><tr><td>14</td><td><a href='https://tskit.dev/msprime/docs/latest/api.html#msprime.Demography.add_population_parameters_change'>Population parameter change</a></td><td>population=-1, growth_rate=0.08600000000000001</td><td>growth_rate → 0.086 for all populations</td></tr><tr><td>15</td><td><a href='https://tskit.dev/msprime/docs/latest/api.html#msprime.Demography.add_population_parameters_change'>Population parameter change</a></td><td>population=-1, growth_rate=0.085</td><td>growth_rate → 0.085 for all populations</td></tr><tr><td>16</td><td><a href='https://tskit.dev/msprime/docs/latest/api.html#msprime.Demography.add_population_parameters_change'>Population parameter change</a></td><td>population=-1, growth_rate=0.084</td><td>growth_rate → 0.084 for all populations</td></tr><tr><td>17</td><td><a href='https://tskit.dev/msprime/docs/latest/api.html#msprime.Demography.add_population_parameters_change'>Population parameter change</a></td><td>population=-1, growth_rate=0.083</td><td>growth_rate → 0.083 for all populations</td></tr><tr><td>18</td><td><a href='https://tskit.dev/msprime/docs/latest/api.html#msprime.Demography.add_population_parameters_change'>Population parameter change</a></td><td>population=-1, growth_rate=0.082</td><td>growth_rate → 0.082 for all populations</td></tr><tr><td>19</td><td><a href='https://tskit.dev/msprime/docs/latest/api.html#msprime.Demography.add_population_parameters_change'>Population parameter change</a></td><td>population=-1, growth_rate=0.081</td><td>growth_rate → 0.081 for all populations</td></tr><tr><td>20</td><td><a href='https://tskit.dev/msprime/docs/latest/api.html#msprime.Demography.add_population_parameters_change'>Population parameter change</a></td><td>population=-1, growth_rate=0.08</td><td>growth_rate → 0.08 for all populations</td></tr><tr><td>21</td><td><a href='https://tskit.dev/msprime/docs/latest/api.html#msprime.Demography.add_population_parameters_change'>Population parameter change</a></td><td>population=-1, growth_rate=0.079</td><td>growth_rate → 0.079 for all populations</td></tr><tr><td>22</td><td><a href='https://tskit.dev/msprime/docs/latest/api.html#msprime.Demography.add_population_parameters_change'>Population parameter change</a></td><td>population=-1, growth_rate=0.07800000000000001</td><td>growth_rate → 0.078 for all populations</td></tr><tr><td>23</td><td><a href='https://tskit.dev/msprime/docs/latest/api.html#msprime.Demography.add_population_parameters_change'>Population parameter change</a></td><td>population=-1, growth_rate=0.07700000000000001</td><td>growth_rate → 0.077 for all populations</td></tr><tr><td>24</td><td><a href='https://tskit.dev/msprime/docs/latest/api.html#msprime.Demography.add_population_parameters_change'>Population parameter change</a></td><td>population=-1, growth_rate=0.07600000000000001</td><td>growth_rate → 0.076 for all populations</td></tr><tr><td>25</td><td><a href='https://tskit.dev/msprime/docs/latest/api.html#msprime.Demography.add_population_parameters_change'>Population parameter change</a></td><td>population=-1, growth_rate=0.07500000000000001</td><td>growth_rate → 0.075 for all populations</td></tr><tr><td>26</td><td><a href='https://tskit.dev/msprime/docs/latest/api.html#msprime.Demography.add_population_parameters_change'>Population parameter change</a></td><td>population=-1, growth_rate=0.07400000000000001</td><td>growth_rate → 0.074 for all populations</td></tr><tr><td>27</td><td><a href='https://tskit.dev/msprime/docs/latest/api.html#msprime.Demography.add_population_parameters_change'>Population parameter change</a></td><td>population=-1, growth_rate=0.07300000000000001</td><td>growth_rate → 0.073 for all populations</td></tr><tr><td>28</td><td><a href='https://tskit.dev/msprime/docs/latest/api.html#msprime.Demography.add_population_parameters_change'>Population parameter change</a></td><td>population=-1, growth_rate=0.07200000000000001</td><td>growth_rate → 0.072 for all populations</td></tr><tr><td>29</td><td><a href='https://tskit.dev/msprime/docs/latest/api.html#msprime.Demography.add_population_parameters_change'>Population parameter change</a></td><td>population=-1, growth_rate=0.07100000000000001</td><td>growth_rate → 0.071 for all populations</td></tr><tr><td>30</td><td><a href='https://tskit.dev/msprime/docs/latest/api.html#msprime.Demography.add_population_parameters_change'>Population parameter change</a></td><td>population=-1, growth_rate=0.07</td><td>growth_rate → 0.07 for all populations</td></tr><tr><td>31</td><td><a href='https://tskit.dev/msprime/docs/latest/api.html#msprime.Demography.add_population_parameters_change'>Population parameter change</a></td><td>population=-1, growth_rate=0.069</td><td>growth_rate → 0.069 for all populations</td></tr><tr><td>32</td><td><a href='https://tskit.dev/msprime/docs/latest/api.html#msprime.Demography.add_population_parameters_change'>Population parameter change</a></td><td>population=-1, growth_rate=0.068</td><td>growth_rate → 0.068 for all populations</td></tr><tr><td>33</td><td><a href='https://tskit.dev/msprime/docs/latest/api.html#msprime.Demography.add_population_parameters_change'>Population parameter change</a></td><td>population=-1, growth_rate=0.067</td><td>growth_rate → 0.067 for all populations</td></tr><tr><td>34</td><td><a href='https://tskit.dev/msprime/docs/latest/api.html#msprime.Demography.add_population_parameters_change'>Population parameter change</a></td><td>population=-1, growth_rate=0.066</td><td>growth_rate → 0.066 for all populations</td></tr><tr><td>35</td><td><a href='https://tskit.dev/msprime/docs/latest/api.html#msprime.Demography.add_population_parameters_change'>Population parameter change</a></td><td>population=-1, growth_rate=0.065</td><td>growth_rate → 0.065 for all populations</td></tr><tr><td>36</td><td><a href='https://tskit.dev/msprime/docs/latest/api.html#msprime.Demography.add_population_parameters_change'>Population parameter change</a></td><td>population=-1, growth_rate=0.064</td><td>growth_rate → 0.064 for all populations</td></tr><tr><td>37</td><td><a href='https://tskit.dev/msprime/docs/latest/api.html#msprime.Demography.add_population_parameters_change'>Population parameter change</a></td><td>population=-1, growth_rate=0.063</td><td>growth_rate → 0.063 for all populations</td></tr><tr><td>38</td><td><a href='https://tskit.dev/msprime/docs/latest/api.html#msprime.Demography.add_population_parameters_change'>Population parameter change</a></td><td>population=-1, growth_rate=0.062000000000000006</td><td>growth_rate → 0.062 for all populations</td></tr><tr><td>39</td><td><a href='https://tskit.dev/msprime/docs/latest/api.html#msprime.Demography.add_population_parameters_change'>Population parameter change</a></td><td>population=-1, growth_rate=0.061000000000000006</td><td>growth_rate → 0.061 for all populations</td></tr><tr><td>40</td><td><a href='https://tskit.dev/msprime/docs/latest/api.html#msprime.Demography.add_population_parameters_change'>Population parameter change</a></td><td>population=-1, growth_rate=0.060000000000000005</td><td>growth_rate → 0.06 for all populations</td></tr><tr><td>41</td><td><a href='https://tskit.dev/msprime/docs/latest/api.html#msprime.Demography.add_population_parameters_change'>Population parameter change</a></td><td>population=-1, growth_rate=0.059000000000000004</td><td>growth_rate → 0.059 for all populations</td></tr><tr><td>42</td><td><a href='https://tskit.dev/msprime/docs/latest/api.html#msprime.Demography.add_population_parameters_change'>Population parameter change</a></td><td>population=-1, growth_rate=0.058</td><td>growth_rate → 0.058 for all populations</td></tr><tr><td>43</td><td><a href='https://tskit.dev/msprime/docs/latest/api.html#msprime.Demography.add_population_parameters_change'>Population parameter change</a></td><td>population=-1, growth_rate=0.057</td><td>growth_rate → 0.057 for all populations</td></tr><tr><td>44</td><td><a href='https://tskit.dev/msprime/docs/latest/api.html#msprime.Demography.add_population_parameters_change'>Population parameter change</a></td><td>population=-1, growth_rate=0.05600000000000001</td><td>growth_rate → 0.056 for all populations</td></tr><tr><td>45</td><td><a href='https://tskit.dev/msprime/docs/latest/api.html#msprime.Demography.add_population_parameters_change'>Population parameter change</a></td><td>population=-1, growth_rate=0.05500000000000001</td><td>growth_rate → 0.055 for all populations</td></tr><tr><td>46</td><td><a href='https://tskit.dev/msprime/docs/latest/api.html#msprime.Demography.add_population_parameters_change'>Population parameter change</a></td><td>population=-1, growth_rate=0.054000000000000006</td><td>growth_rate → 0.054 for all populations</td></tr><tr><td>47</td><td><a href='https://tskit.dev/msprime/docs/latest/api.html#msprime.Demography.add_population_parameters_change'>Population parameter change</a></td><td>population=-1, growth_rate=0.053000000000000005</td><td>growth_rate → 0.053 for all populations</td></tr><tr><td>48</td><td><a href='https://tskit.dev/msprime/docs/latest/api.html#msprime.Demography.add_population_parameters_change'>Population parameter change</a></td><td>population=-1, growth_rate=0.052000000000000005</td><td>growth_rate → 0.052 for all populations</td></tr><tr><td>49</td><td><a href='https://tskit.dev/msprime/docs/latest/api.html#msprime.Demography.add_population_parameters_change'>Population parameter change</a></td><td>population=-1, growth_rate=0.051000000000000004</td><td>growth_rate → 0.051 for all populations</td></tr><tr><td>50</td><td><a href='https://tskit.dev/msprime/docs/latest/api.html#msprime.Demography.add_population_parameters_change'>Population parameter change</a></td><td>population=-1, growth_rate=0.05</td><td>growth_rate → 0.05 for all populations</td></tr><tr><td>51</td><td><a href='https://tskit.dev/msprime/docs/latest/api.html#msprime.Demography.add_population_parameters_change'>Population parameter change</a></td><td>population=-1, growth_rate=0.049</td><td>growth_rate → 0.049 for all populations</td></tr><tr><td>52</td><td><a href='https://tskit.dev/msprime/docs/latest/api.html#msprime.Demography.add_population_parameters_change'>Population parameter change</a></td><td>population=-1, growth_rate=0.048</td><td>growth_rate → 0.048 for all populations</td></tr><tr><td>53</td><td><a href='https://tskit.dev/msprime/docs/latest/api.html#msprime.Demography.add_population_parameters_change'>Population parameter change</a></td><td>population=-1, growth_rate=0.04700000000000001</td><td>growth_rate → 0.047 for all populations</td></tr><tr><td>54</td><td><a href='https://tskit.dev/msprime/docs/latest/api.html#msprime.Demography.add_population_parameters_change'>Population parameter change</a></td><td>population=-1, growth_rate=0.046000000000000006</td><td>growth_rate → 0.046 for all populations</td></tr><tr><td>55</td><td><a href='https://tskit.dev/msprime/docs/latest/api.html#msprime.Demography.add_population_parameters_change'>Population parameter change</a></td><td>population=-1, growth_rate=0.045000000000000005</td><td>growth_rate → 0.045 for all populations</td></tr><tr><td>56</td><td><a href='https://tskit.dev/msprime/docs/latest/api.html#msprime.Demography.add_population_parameters_change'>Population parameter change</a></td><td>population=-1, growth_rate=0.044000000000000004</td><td>growth_rate → 0.044 for all populations</td></tr><tr><td>57</td><td><a href='https://tskit.dev/msprime/docs/latest/api.html#msprime.Demography.add_population_parameters_change'>Population parameter change</a></td><td>population=-1, growth_rate=0.043000000000000003</td><td>growth_rate → 0.043 for all populations</td></tr><tr><td>58</td><td><a href='https://tskit.dev/msprime/docs/latest/api.html#msprime.Demography.add_population_parameters_change'>Population parameter change</a></td><td>population=-1, growth_rate=0.042</td><td>growth_rate → 0.042 for all populations</td></tr><tr><td>59</td><td><a href='https://tskit.dev/msprime/docs/latest/api.html#msprime.Demography.add_population_parameters_change'>Population parameter change</a></td><td>population=-1, growth_rate=0.041</td><td>growth_rate → 0.041 for all populations</td></tr><tr><td>60</td><td><a href='https://tskit.dev/msprime/docs/latest/api.html#msprime.Demography.add_population_parameters_change'>Population parameter change</a></td><td>population=-1, growth_rate=0.04000000000000001</td><td>growth_rate → 0.04 for all populations</td></tr><tr><td>61</td><td><a href='https://tskit.dev/msprime/docs/latest/api.html#msprime.Demography.add_population_parameters_change'>Population parameter change</a></td><td>population=-1, growth_rate=0.03900000000000001</td><td>growth_rate → 0.039 for all populations</td></tr><tr><td>62</td><td><a href='https://tskit.dev/msprime/docs/latest/api.html#msprime.Demography.add_population_parameters_change'>Population parameter change</a></td><td>population=-1, growth_rate=0.038000000000000006</td><td>growth_rate → 0.038 for all populations</td></tr><tr><td>63</td><td><a href='https://tskit.dev/msprime/docs/latest/api.html#msprime.Demography.add_population_parameters_change'>Population parameter change</a></td><td>population=-1, growth_rate=0.037000000000000005</td><td>growth_rate → 0.037 for all populations</td></tr><tr><td>64</td><td><a href='https://tskit.dev/msprime/docs/latest/api.html#msprime.Demography.add_population_parameters_change'>Population parameter change</a></td><td>population=-1, growth_rate=0.036000000000000004</td><td>growth_rate → 0.036 for all populations</td></tr><tr><td>65</td><td><a href='https://tskit.dev/msprime/docs/latest/api.html#msprime.Demography.add_population_parameters_change'>Population parameter change</a></td><td>population=-1, growth_rate=0.035</td><td>growth_rate → 0.035 for all populations</td></tr><tr><td>66</td><td><a href='https://tskit.dev/msprime/docs/latest/api.html#msprime.Demography.add_population_parameters_change'>Population parameter change</a></td><td>population=-1, growth_rate=0.034</td><td>growth_rate → 0.034 for all populations</td></tr><tr><td>67</td><td><a href='https://tskit.dev/msprime/docs/latest/api.html#msprime.Demography.add_population_parameters_change'>Population parameter change</a></td><td>population=-1, growth_rate=0.033</td><td>growth_rate → 0.033 for all populations</td></tr><tr><td>68</td><td><a href='https://tskit.dev/msprime/docs/latest/api.html#msprime.Demography.add_population_parameters_change'>Population parameter change</a></td><td>population=-1, growth_rate=0.032</td><td>growth_rate → 0.032 for all populations</td></tr><tr><td>69</td><td><a href='https://tskit.dev/msprime/docs/latest/api.html#msprime.Demography.add_population_parameters_change'>Population parameter change</a></td><td>population=-1, growth_rate=0.031</td><td>growth_rate → 0.031 for all populations</td></tr><tr><td>70</td><td><a href='https://tskit.dev/msprime/docs/latest/api.html#msprime.Demography.add_population_parameters_change'>Population parameter change</a></td><td>population=-1, growth_rate=0.03</td><td>growth_rate → 0.03 for all populations</td></tr><tr><td>71</td><td><a href='https://tskit.dev/msprime/docs/latest/api.html#msprime.Demography.add_population_parameters_change'>Population parameter change</a></td><td>population=-1, growth_rate=0.028999999999999998</td><td>growth_rate → 0.029 for all populations</td></tr><tr><td>72</td><td><a href='https://tskit.dev/msprime/docs/latest/api.html#msprime.Demography.add_population_parameters_change'>Population parameter change</a></td><td>population=-1, growth_rate=0.027999999999999997</td><td>growth_rate → 0.028 for all populations</td></tr><tr><td>73</td><td><a href='https://tskit.dev/msprime/docs/latest/api.html#msprime.Demography.add_population_parameters_change'>Population parameter change</a></td><td>population=-1, growth_rate=0.02700000000000001</td><td>growth_rate → 0.027 for all populations</td></tr><tr><td>74</td><td><a href='https://tskit.dev/msprime/docs/latest/api.html#msprime.Demography.add_population_parameters_change'>Population parameter change</a></td><td>population=-1, growth_rate=0.02600000000000001</td><td>growth_rate → 0.026 for all populations</td></tr><tr><td>75</td><td><a href='https://tskit.dev/msprime/docs/latest/api.html#msprime.Demography.add_population_parameters_change'>Population parameter change</a></td><td>population=-1, growth_rate=0.02500000000000001</td><td>growth_rate → 0.025 for all populations</td></tr><tr><td>76</td><td><a href='https://tskit.dev/msprime/docs/latest/api.html#msprime.Demography.add_population_parameters_change'>Population parameter change</a></td><td>population=-1, growth_rate=0.024000000000000007</td><td>growth_rate → 0.024 for all populations</td></tr><tr><td>77</td><td><a href='https://tskit.dev/msprime/docs/latest/api.html#msprime.Demography.add_population_parameters_change'>Population parameter change</a></td><td>population=-1, growth_rate=0.023000000000000007</td><td>growth_rate → 0.023 for all populations</td></tr><tr><td>78</td><td><a href='https://tskit.dev/msprime/docs/latest/api.html#msprime.Demography.add_population_parameters_change'>Population parameter change</a></td><td>population=-1, growth_rate=0.022000000000000006</td><td>growth_rate → 0.022 for all populations</td></tr><tr><td>79</td><td><a href='https://tskit.dev/msprime/docs/latest/api.html#msprime.Demography.add_population_parameters_change'>Population parameter change</a></td><td>population=-1, growth_rate=0.021000000000000005</td><td>growth_rate → 0.021 for all populations</td></tr><tr><td>80</td><td><a href='https://tskit.dev/msprime/docs/latest/api.html#msprime.Demography.add_population_parameters_change'>Population parameter change</a></td><td>population=-1, growth_rate=0.020000000000000004</td><td>growth_rate → 0.02 for all populations</td></tr><tr><td>81</td><td><a href='https://tskit.dev/msprime/docs/latest/api.html#msprime.Demography.add_population_parameters_change'>Population parameter change</a></td><td>population=-1, growth_rate=0.019000000000000003</td><td>growth_rate → 0.019 for all populations</td></tr><tr><td>82</td><td><a href='https://tskit.dev/msprime/docs/latest/api.html#msprime.Demography.add_population_parameters_change'>Population parameter change</a></td><td>population=-1, growth_rate=0.018000000000000002</td><td>growth_rate → 0.018 for all populations</td></tr><tr><td>83</td><td><a href='https://tskit.dev/msprime/docs/latest/api.html#msprime.Demography.add_population_parameters_change'>Population parameter change</a></td><td>population=-1, growth_rate=0.017</td><td>growth_rate → 0.017 for all populations</td></tr><tr><td>84</td><td><a href='https://tskit.dev/msprime/docs/latest/api.html#msprime.Demography.add_population_parameters_change'>Population parameter change</a></td><td>population=-1, growth_rate=0.016</td><td>growth_rate → 0.016 for all populations</td></tr><tr><td>85</td><td><a href='https://tskit.dev/msprime/docs/latest/api.html#msprime.Demography.add_population_parameters_change'>Population parameter change</a></td><td>population=-1, growth_rate=0.015</td><td>growth_rate → 0.015 for all populations</td></tr><tr><td>86</td><td><a href='https://tskit.dev/msprime/docs/latest/api.html#msprime.Demography.add_population_parameters_change'>Population parameter change</a></td><td>population=-1, growth_rate=0.013999999999999999</td><td>growth_rate → 0.014 for all populations</td></tr><tr><td>87</td><td><a href='https://tskit.dev/msprime/docs/latest/api.html#msprime.Demography.add_population_parameters_change'>Population parameter change</a></td><td>population=-1, growth_rate=0.012999999999999998</td><td>growth_rate → 0.013 for all populations</td></tr><tr><td>88</td><td><a href='https://tskit.dev/msprime/docs/latest/api.html#msprime.Demography.add_population_parameters_change'>Population parameter change</a></td><td>population=-1, growth_rate=0.01200000000000001</td><td>growth_rate → 0.012 for all populations</td></tr><tr><td>89</td><td><a href='https://tskit.dev/msprime/docs/latest/api.html#msprime.Demography.add_population_parameters_change'>Population parameter change</a></td><td>population=-1, growth_rate=0.01100000000000001</td><td>growth_rate → 0.011 for all populations</td></tr><tr><td>90</td><td><a href='https://tskit.dev/msprime/docs/latest/api.html#msprime.Demography.add_population_parameters_change'>Population parameter change</a></td><td>population=-1, growth_rate=0.010000000000000009</td><td>growth_rate → 0.01 for all populations</td></tr><tr><td>91</td><td><a href='https://tskit.dev/msprime/docs/latest/api.html#msprime.Demography.add_population_parameters_change'>Population parameter change</a></td><td>population=-1, growth_rate=0.009000000000000008</td><td>growth_rate → 0.009 for all populations</td></tr><tr><td>92</td><td><a href='https://tskit.dev/msprime/docs/latest/api.html#msprime.Demography.add_population_parameters_change'>Population parameter change</a></td><td>population=-1, growth_rate=0.008000000000000007</td><td>growth_rate → 0.008 for all populations</td></tr><tr><td>93</td><td><a href='https://tskit.dev/msprime/docs/latest/api.html#msprime.Demography.add_population_parameters_change'>Population parameter change</a></td><td>population=-1, growth_rate=0.007000000000000006</td><td>growth_rate → 0.007 for all populations</td></tr><tr><td>94</td><td><a href='https://tskit.dev/msprime/docs/latest/api.html#msprime.Demography.add_population_parameters_change'>Population parameter change</a></td><td>population=-1, growth_rate=0.006000000000000005</td><td>growth_rate → 0.006 for all populations</td></tr><tr><td>95</td><td><a href='https://tskit.dev/msprime/docs/latest/api.html#msprime.Demography.add_population_parameters_change'>Population parameter change</a></td><td>population=-1, growth_rate=0.0050000000000000044</td><td>growth_rate → 0.005 for all populations</td></tr><tr><td>96</td><td><a href='https://tskit.dev/msprime/docs/latest/api.html#msprime.Demography.add_population_parameters_change'>Population parameter change</a></td><td>population=-1, growth_rate=0.0040000000000000036</td><td>growth_rate → 0.004 for all populations</td></tr><tr><td>97</td><td><a href='https://tskit.dev/msprime/docs/latest/api.html#msprime.Demography.add_population_parameters_change'>Population parameter change</a></td><td>population=-1, growth_rate=0.0030000000000000027</td><td>growth_rate → 0.003 for all populations</td></tr><tr><td>98</td><td><a href='https://tskit.dev/msprime/docs/latest/api.html#msprime.Demography.add_population_parameters_change'>Population parameter change</a></td><td>population=-1, growth_rate=0.0020000000000000018</td><td>growth_rate → 0.002 for all populations</td></tr><tr><td>99</td><td><a href='https://tskit.dev/msprime/docs/latest/api.html#msprime.Demography.add_population_parameters_change'>Population parameter change</a></td><td>population=-1, growth_rate=0.0010000000000000009</td><td>growth_rate → 0.001 for all populations</td></tr><tr><td>100</td><td><a href='https://tskit.dev/msprime/docs/latest/api.html#msprime.Demography.add_population_parameters_change'>Population parameter change</a></td><td>population=-1, growth_rate=0.0</td><td>growth_rate → 0 for all populations</td></tr></tbody></table></div></div>"
      ],
      "text/plain": [
       "Demography(populations=[Population(initial_size=1411749.0, growth_rate=0.1, name='pop_0', description='', extra_metadata={}, default_sampling_time=None, initially_active=None, id=0)], events=[PopulationParametersChange(time=1, initial_size=None, growth_rate=0.099, population=-1), PopulationParametersChange(time=2, initial_size=None, growth_rate=0.098, population=-1), PopulationParametersChange(time=3, initial_size=None, growth_rate=0.097, population=-1), PopulationParametersChange(time=4, initial_size=None, growth_rate=0.096, population=-1), PopulationParametersChange(time=5, initial_size=None, growth_rate=0.095, population=-1), PopulationParametersChange(time=6, initial_size=None, growth_rate=0.094, population=-1), PopulationParametersChange(time=7, initial_size=None, growth_rate=0.093, population=-1), PopulationParametersChange(time=8, initial_size=None, growth_rate=0.092, population=-1), PopulationParametersChange(time=9, initial_size=None, growth_rate=0.091, population=-1), PopulationParametersChange(time=10, initial_size=None, growth_rate=0.09000000000000001, population=-1), PopulationParametersChange(time=11, initial_size=None, growth_rate=0.08900000000000001, population=-1), PopulationParametersChange(time=12, initial_size=None, growth_rate=0.08800000000000001, population=-1), PopulationParametersChange(time=13, initial_size=None, growth_rate=0.08700000000000001, population=-1), PopulationParametersChange(time=14, initial_size=None, growth_rate=0.08600000000000001, population=-1), PopulationParametersChange(time=15, initial_size=None, growth_rate=0.085, population=-1), PopulationParametersChange(time=16, initial_size=None, growth_rate=0.084, population=-1), PopulationParametersChange(time=17, initial_size=None, growth_rate=0.083, population=-1), PopulationParametersChange(time=18, initial_size=None, growth_rate=0.082, population=-1), PopulationParametersChange(time=19, initial_size=None, growth_rate=0.081, population=-1), PopulationParametersChange(time=20, initial_size=None, growth_rate=0.08, population=-1), PopulationParametersChange(time=21, initial_size=None, growth_rate=0.079, population=-1), PopulationParametersChange(time=22, initial_size=None, growth_rate=0.07800000000000001, population=-1), PopulationParametersChange(time=23, initial_size=None, growth_rate=0.07700000000000001, population=-1), PopulationParametersChange(time=24, initial_size=None, growth_rate=0.07600000000000001, population=-1), PopulationParametersChange(time=25, initial_size=None, growth_rate=0.07500000000000001, population=-1), PopulationParametersChange(time=26, initial_size=None, growth_rate=0.07400000000000001, population=-1), PopulationParametersChange(time=27, initial_size=None, growth_rate=0.07300000000000001, population=-1), PopulationParametersChange(time=28, initial_size=None, growth_rate=0.07200000000000001, population=-1), PopulationParametersChange(time=29, initial_size=None, growth_rate=0.07100000000000001, population=-1), PopulationParametersChange(time=30, initial_size=None, growth_rate=0.07, population=-1), PopulationParametersChange(time=31, initial_size=None, growth_rate=0.069, population=-1), PopulationParametersChange(time=32, initial_size=None, growth_rate=0.068, population=-1), PopulationParametersChange(time=33, initial_size=None, growth_rate=0.067, population=-1), PopulationParametersChange(time=34, initial_size=None, growth_rate=0.066, population=-1), PopulationParametersChange(time=35, initial_size=None, growth_rate=0.065, population=-1), PopulationParametersChange(time=36, initial_size=None, growth_rate=0.064, population=-1), PopulationParametersChange(time=37, initial_size=None, growth_rate=0.063, population=-1), PopulationParametersChange(time=38, initial_size=None, growth_rate=0.062000000000000006, population=-1), PopulationParametersChange(time=39, initial_size=None, growth_rate=0.061000000000000006, population=-1), PopulationParametersChange(time=40, initial_size=None, growth_rate=0.060000000000000005, population=-1), PopulationParametersChange(time=41, initial_size=None, growth_rate=0.059000000000000004, population=-1), PopulationParametersChange(time=42, initial_size=None, growth_rate=0.058, population=-1), PopulationParametersChange(time=43, initial_size=None, growth_rate=0.057, population=-1), PopulationParametersChange(time=44, initial_size=None, growth_rate=0.05600000000000001, population=-1), PopulationParametersChange(time=45, initial_size=None, growth_rate=0.05500000000000001, population=-1), PopulationParametersChange(time=46, initial_size=None, growth_rate=0.054000000000000006, population=-1), PopulationParametersChange(time=47, initial_size=None, growth_rate=0.053000000000000005, population=-1), PopulationParametersChange(time=48, initial_size=None, growth_rate=0.052000000000000005, population=-1), PopulationParametersChange(time=49, initial_size=None, growth_rate=0.051000000000000004, population=-1), PopulationParametersChange(time=50, initial_size=None, growth_rate=0.05, population=-1), PopulationParametersChange(time=51, initial_size=None, growth_rate=0.049, population=-1), PopulationParametersChange(time=52, initial_size=None, growth_rate=0.048, population=-1), PopulationParametersChange(time=53, initial_size=None, growth_rate=0.04700000000000001, population=-1), PopulationParametersChange(time=54, initial_size=None, growth_rate=0.046000000000000006, population=-1), PopulationParametersChange(time=55, initial_size=None, growth_rate=0.045000000000000005, population=-1), PopulationParametersChange(time=56, initial_size=None, growth_rate=0.044000000000000004, population=-1), PopulationParametersChange(time=57, initial_size=None, growth_rate=0.043000000000000003, population=-1), PopulationParametersChange(time=58, initial_size=None, growth_rate=0.042, population=-1), PopulationParametersChange(time=59, initial_size=None, growth_rate=0.041, population=-1), PopulationParametersChange(time=60, initial_size=None, growth_rate=0.04000000000000001, population=-1), PopulationParametersChange(time=61, initial_size=None, growth_rate=0.03900000000000001, population=-1), PopulationParametersChange(time=62, initial_size=None, growth_rate=0.038000000000000006, population=-1), PopulationParametersChange(time=63, initial_size=None, growth_rate=0.037000000000000005, population=-1), PopulationParametersChange(time=64, initial_size=None, growth_rate=0.036000000000000004, population=-1), PopulationParametersChange(time=65, initial_size=None, growth_rate=0.035, population=-1), PopulationParametersChange(time=66, initial_size=None, growth_rate=0.034, population=-1), PopulationParametersChange(time=67, initial_size=None, growth_rate=0.033, population=-1), PopulationParametersChange(time=68, initial_size=None, growth_rate=0.032, population=-1), PopulationParametersChange(time=69, initial_size=None, growth_rate=0.031, population=-1), PopulationParametersChange(time=70, initial_size=None, growth_rate=0.03, population=-1), PopulationParametersChange(time=71, initial_size=None, growth_rate=0.028999999999999998, population=-1), PopulationParametersChange(time=72, initial_size=None, growth_rate=0.027999999999999997, population=-1), PopulationParametersChange(time=73, initial_size=None, growth_rate=0.02700000000000001, population=-1), PopulationParametersChange(time=74, initial_size=None, growth_rate=0.02600000000000001, population=-1), PopulationParametersChange(time=75, initial_size=None, growth_rate=0.02500000000000001, population=-1), PopulationParametersChange(time=76, initial_size=None, growth_rate=0.024000000000000007, population=-1), PopulationParametersChange(time=77, initial_size=None, growth_rate=0.023000000000000007, population=-1), PopulationParametersChange(time=78, initial_size=None, growth_rate=0.022000000000000006, population=-1), PopulationParametersChange(time=79, initial_size=None, growth_rate=0.021000000000000005, population=-1), PopulationParametersChange(time=80, initial_size=None, growth_rate=0.020000000000000004, population=-1), PopulationParametersChange(time=81, initial_size=None, growth_rate=0.019000000000000003, population=-1), PopulationParametersChange(time=82, initial_size=None, growth_rate=0.018000000000000002, population=-1), PopulationParametersChange(time=83, initial_size=None, growth_rate=0.017, population=-1), PopulationParametersChange(time=84, initial_size=None, growth_rate=0.016, population=-1), PopulationParametersChange(time=85, initial_size=None, growth_rate=0.015, population=-1), PopulationParametersChange(time=86, initial_size=None, growth_rate=0.013999999999999999, population=-1), PopulationParametersChange(time=87, initial_size=None, growth_rate=0.012999999999999998, population=-1), PopulationParametersChange(time=88, initial_size=None, growth_rate=0.01200000000000001, population=-1), PopulationParametersChange(time=89, initial_size=None, growth_rate=0.01100000000000001, population=-1), PopulationParametersChange(time=90, initial_size=None, growth_rate=0.010000000000000009, population=-1), PopulationParametersChange(time=91, initial_size=None, growth_rate=0.009000000000000008, population=-1), PopulationParametersChange(time=92, initial_size=None, growth_rate=0.008000000000000007, population=-1), PopulationParametersChange(time=93, initial_size=None, growth_rate=0.007000000000000006, population=-1), PopulationParametersChange(time=94, initial_size=None, growth_rate=0.006000000000000005, population=-1), PopulationParametersChange(time=95, initial_size=None, growth_rate=0.0050000000000000044, population=-1), PopulationParametersChange(time=96, initial_size=None, growth_rate=0.0040000000000000036, population=-1), PopulationParametersChange(time=97, initial_size=None, growth_rate=0.0030000000000000027, population=-1), PopulationParametersChange(time=98, initial_size=None, growth_rate=0.0020000000000000018, population=-1), PopulationParametersChange(time=99, initial_size=None, growth_rate=0.0010000000000000009, population=-1), PopulationParametersChange(time=100, initial_size=None, growth_rate=0.0, population=-1)], migration_matrix=array([[0.]]))"
      ]
     },
     "execution_count": 15,
     "metadata": {},
     "output_type": "execute_result"
    }
   ],
   "source": [
    "demo_model"
   ]
  },
  {
   "cell_type": "code",
   "execution_count": 16,
   "id": "c47ab0c2",
   "metadata": {
    "scrolled": true
   },
   "outputs": [
    {
     "data": {
      "text/plain": [
       "[0,\n",
       " 1,\n",
       " 2,\n",
       " 3,\n",
       " 4,\n",
       " 5,\n",
       " 6,\n",
       " 7,\n",
       " 8,\n",
       " 9,\n",
       " 10,\n",
       " 11,\n",
       " 12,\n",
       " 13,\n",
       " 14,\n",
       " 15,\n",
       " 16,\n",
       " 17,\n",
       " 18,\n",
       " 19,\n",
       " 20,\n",
       " 21,\n",
       " 22,\n",
       " 23,\n",
       " 24,\n",
       " 25,\n",
       " 26,\n",
       " 27,\n",
       " 28,\n",
       " 29,\n",
       " 30,\n",
       " 31,\n",
       " 32,\n",
       " 33,\n",
       " 34,\n",
       " 35,\n",
       " 36,\n",
       " 37,\n",
       " 38,\n",
       " 39,\n",
       " 40,\n",
       " 41,\n",
       " 42,\n",
       " 43,\n",
       " 44,\n",
       " 45,\n",
       " 46,\n",
       " 47,\n",
       " 48,\n",
       " 49,\n",
       " 50,\n",
       " 51,\n",
       " 52,\n",
       " 53,\n",
       " 54,\n",
       " 55,\n",
       " 56,\n",
       " 57,\n",
       " 58,\n",
       " 59,\n",
       " 60,\n",
       " 61,\n",
       " 62,\n",
       " 63,\n",
       " 64,\n",
       " 65,\n",
       " 66,\n",
       " 67,\n",
       " 68,\n",
       " 69,\n",
       " 70,\n",
       " 71,\n",
       " 72,\n",
       " 73,\n",
       " 74,\n",
       " 75,\n",
       " 76,\n",
       " 77,\n",
       " 78,\n",
       " 79,\n",
       " 80,\n",
       " 81,\n",
       " 82,\n",
       " 83,\n",
       " 84,\n",
       " 85,\n",
       " 86,\n",
       " 87,\n",
       " 88,\n",
       " 89,\n",
       " 90,\n",
       " 91,\n",
       " 92,\n",
       " 93,\n",
       " 94,\n",
       " 95,\n",
       " 96,\n",
       " 97,\n",
       " 98,\n",
       " 99,\n",
       " 100]"
      ]
     },
     "execution_count": 16,
     "metadata": {},
     "output_type": "execute_result"
    }
   ],
   "source": [
    "changepoint"
   ]
  },
  {
   "cell_type": "code",
   "execution_count": 17,
   "id": "40c6d07e",
   "metadata": {
    "scrolled": true
   },
   "outputs": [
    {
     "data": {
      "text/plain": [
       "array([0.1  , 0.099, 0.098, 0.097, 0.096, 0.095, 0.094, 0.093, 0.092,\n",
       "       0.091, 0.09 , 0.089, 0.088, 0.087, 0.086, 0.085, 0.084, 0.083,\n",
       "       0.082, 0.081, 0.08 , 0.079, 0.078, 0.077, 0.076, 0.075, 0.074,\n",
       "       0.073, 0.072, 0.071, 0.07 , 0.069, 0.068, 0.067, 0.066, 0.065,\n",
       "       0.064, 0.063, 0.062, 0.061, 0.06 , 0.059, 0.058, 0.057, 0.056,\n",
       "       0.055, 0.054, 0.053, 0.052, 0.051, 0.05 , 0.049, 0.048, 0.047,\n",
       "       0.046, 0.045, 0.044, 0.043, 0.042, 0.041, 0.04 , 0.039, 0.038,\n",
       "       0.037, 0.036, 0.035, 0.034, 0.033, 0.032, 0.031, 0.03 , 0.029,\n",
       "       0.028, 0.027, 0.026, 0.025, 0.024, 0.023, 0.022, 0.021, 0.02 ,\n",
       "       0.019, 0.018, 0.017, 0.016, 0.015, 0.014, 0.013, 0.012, 0.011,\n",
       "       0.01 , 0.009, 0.008, 0.007, 0.006, 0.005, 0.004, 0.003, 0.002,\n",
       "       0.001, 0.   ])"
      ]
     },
     "execution_count": 17,
     "metadata": {},
     "output_type": "execute_result"
    }
   ],
   "source": [
    "growthr"
   ]
  },
  {
   "cell_type": "code",
   "execution_count": null,
   "id": "278b72da",
   "metadata": {},
   "outputs": [],
   "source": [
    "Ntlist"
   ]
  },
  {
   "cell_type": "code",
   "execution_count": 43,
   "id": "0b8ce90f",
   "metadata": {},
   "outputs": [
    {
     "name": "stdout",
     "output_type": "stream",
     "text": [
      "1\n",
      "11\n",
      "21\n",
      "31\n",
      "41\n",
      "51\n",
      "61\n",
      "71\n"
     ]
    },
    {
     "ename": "KeyboardInterrupt",
     "evalue": "",
     "output_type": "error",
     "traceback": [
      "\u001b[0;31m---------------------------------------------------------------------------\u001b[0m",
      "\u001b[0;31mKeyboardInterrupt\u001b[0m                         Traceback (most recent call last)",
      "Input \u001b[0;32mIn [43]\u001b[0m, in \u001b[0;36m<cell line: 20>\u001b[0;34m()\u001b[0m\n\u001b[1;32m     16\u001b[0m         mu_index \u001b[38;5;241m=\u001b[39m mu_index\u001b[38;5;241m+\u001b[39m\u001b[38;5;241m1\u001b[39m\n\u001b[1;32m     20\u001b[0m \u001b[38;5;28;01mfor\u001b[39;00m i \u001b[38;5;129;01min\u001b[39;00m \u001b[38;5;28mrange\u001b[39m(\u001b[38;5;241m2\u001b[39m\u001b[38;5;241m*\u001b[39msam_size\u001b[38;5;241m-\u001b[39m\u001b[38;5;241m1\u001b[39m):\n\u001b[0;32m---> 21\u001b[0m     current_time \u001b[38;5;241m=\u001b[39m \u001b[43mmts\u001b[49m\u001b[38;5;241;43m.\u001b[39;49m\u001b[43mdiversity\u001b[49m\u001b[43m(\u001b[49m\u001b[43msample_sets\u001b[49m\u001b[38;5;241;43m=\u001b[39;49m\u001b[43m[\u001b[49m\u001b[43m[\u001b[49m\u001b[43mi\u001b[49m\u001b[43m,\u001b[49m\u001b[43mi\u001b[49m\u001b[38;5;241;43m+\u001b[39;49m\u001b[38;5;241;43m1\u001b[39;49m\u001b[43m]\u001b[49m\u001b[43m]\u001b[49m\u001b[43m,\u001b[49m\u001b[43mwindows\u001b[49m\u001b[38;5;241;43m=\u001b[39;49m\u001b[43mseq_bp\u001b[49m\u001b[43m,\u001b[49m\u001b[43mmode\u001b[49m\u001b[38;5;241;43m=\u001b[39;49m\u001b[38;5;124;43m'\u001b[39;49m\u001b[38;5;124;43mbranch\u001b[39;49m\u001b[38;5;124;43m'\u001b[39;49m\u001b[43m,\u001b[49m\u001b[43mspan_normalise\u001b[49m\u001b[38;5;241;43m=\u001b[39;49m\u001b[38;5;28;43;01mFalse\u001b[39;49;00m\u001b[43m)\u001b[49m\u001b[38;5;241m.\u001b[39mflatten()\u001b[38;5;241m/\u001b[39m\u001b[38;5;241m2\u001b[39m\n\u001b[1;32m     22\u001b[0m     current_rate_nomu \u001b[38;5;241m=\u001b[39m current_time\u001b[38;5;241m*\u001b[39m(seq_bp[\u001b[38;5;241m1\u001b[39m:]\u001b[38;5;241m-\u001b[39m seq_bp[\u001b[38;5;241m0\u001b[39m:(\u001b[38;5;28mlen\u001b[39m(seq_bp)\u001b[38;5;241m-\u001b[39m\u001b[38;5;241m1\u001b[39m)])\u001b[38;5;241m*\u001b[39m\u001b[38;5;241m2\u001b[39m\n\u001b[1;32m     23\u001b[0m     timevec_all[ (i\u001b[38;5;241m*\u001b[39m(\u001b[38;5;28mlen\u001b[39m(seq_bp)\u001b[38;5;241m-\u001b[39m\u001b[38;5;241m1\u001b[39m)):((i\u001b[38;5;241m+\u001b[39m\u001b[38;5;241m1\u001b[39m)\u001b[38;5;241m*\u001b[39m(\u001b[38;5;28mlen\u001b[39m(seq_bp)\u001b[38;5;241m-\u001b[39m\u001b[38;5;241m1\u001b[39m))  ] \u001b[38;5;241m=\u001b[39m current_time\n",
      "File \u001b[0;32m~/anaconda3/lib/python3.9/site-packages/tskit/trees.py:7619\u001b[0m, in \u001b[0;36mTreeSequence.diversity\u001b[0;34m(self, sample_sets, windows, mode, span_normalise)\u001b[0m\n\u001b[1;32m   7565\u001b[0m \u001b[38;5;28;01mdef\u001b[39;00m \u001b[38;5;21mdiversity\u001b[39m(\n\u001b[1;32m   7566\u001b[0m     \u001b[38;5;28mself\u001b[39m, sample_sets\u001b[38;5;241m=\u001b[39m\u001b[38;5;28;01mNone\u001b[39;00m, windows\u001b[38;5;241m=\u001b[39m\u001b[38;5;28;01mNone\u001b[39;00m, mode\u001b[38;5;241m=\u001b[39m\u001b[38;5;124m\"\u001b[39m\u001b[38;5;124msite\u001b[39m\u001b[38;5;124m\"\u001b[39m, span_normalise\u001b[38;5;241m=\u001b[39m\u001b[38;5;28;01mTrue\u001b[39;00m\n\u001b[1;32m   7567\u001b[0m ):\n\u001b[1;32m   7568\u001b[0m     \u001b[38;5;124;03m\"\"\"\u001b[39;00m\n\u001b[1;32m   7569\u001b[0m \u001b[38;5;124;03m    Computes mean genetic diversity (also known as \"pi\") in each of the\u001b[39;00m\n\u001b[1;32m   7570\u001b[0m \u001b[38;5;124;03m    sets of nodes from ``sample_sets``.  The statistic is also known as\u001b[39;00m\n\u001b[0;32m   (...)\u001b[0m\n\u001b[1;32m   7617\u001b[0m \u001b[38;5;124;03m        If there is one sample set and windows=None, a numpy scalar is returned.\u001b[39;00m\n\u001b[1;32m   7618\u001b[0m \u001b[38;5;124;03m    \"\"\"\u001b[39;00m\n\u001b[0;32m-> 7619\u001b[0m     \u001b[38;5;28;01mreturn\u001b[39;00m \u001b[38;5;28;43mself\u001b[39;49m\u001b[38;5;241;43m.\u001b[39;49m\u001b[43m__one_way_sample_set_stat\u001b[49m\u001b[43m(\u001b[49m\n\u001b[1;32m   7620\u001b[0m \u001b[43m        \u001b[49m\u001b[38;5;28;43mself\u001b[39;49m\u001b[38;5;241;43m.\u001b[39;49m\u001b[43m_ll_tree_sequence\u001b[49m\u001b[38;5;241;43m.\u001b[39;49m\u001b[43mdiversity\u001b[49m\u001b[43m,\u001b[49m\n\u001b[1;32m   7621\u001b[0m \u001b[43m        \u001b[49m\u001b[43msample_sets\u001b[49m\u001b[43m,\u001b[49m\n\u001b[1;32m   7622\u001b[0m \u001b[43m        \u001b[49m\u001b[43mwindows\u001b[49m\u001b[38;5;241;43m=\u001b[39;49m\u001b[43mwindows\u001b[49m\u001b[43m,\u001b[49m\n\u001b[1;32m   7623\u001b[0m \u001b[43m        \u001b[49m\u001b[43mmode\u001b[49m\u001b[38;5;241;43m=\u001b[39;49m\u001b[43mmode\u001b[49m\u001b[43m,\u001b[49m\n\u001b[1;32m   7624\u001b[0m \u001b[43m        \u001b[49m\u001b[43mspan_normalise\u001b[49m\u001b[38;5;241;43m=\u001b[39;49m\u001b[43mspan_normalise\u001b[49m\u001b[43m,\u001b[49m\n\u001b[1;32m   7625\u001b[0m \u001b[43m    \u001b[49m\u001b[43m)\u001b[49m\n",
      "File \u001b[0;32m~/anaconda3/lib/python3.9/site-packages/tskit/trees.py:7494\u001b[0m, in \u001b[0;36mTreeSequence.__one_way_sample_set_stat\u001b[0;34m(self, ll_method, sample_sets, windows, mode, span_normalise, polarised)\u001b[0m\n\u001b[1;32m   7491\u001b[0m     \u001b[38;5;28;01mraise\u001b[39;00m \u001b[38;5;167;01mValueError\u001b[39;00m(\u001b[38;5;124m\"\u001b[39m\u001b[38;5;124mSample sets must contain at least one element\u001b[39m\u001b[38;5;124m\"\u001b[39m)\n\u001b[1;32m   7493\u001b[0m flattened \u001b[38;5;241m=\u001b[39m util\u001b[38;5;241m.\u001b[39msafe_np_int_cast(np\u001b[38;5;241m.\u001b[39mhstack(sample_sets), np\u001b[38;5;241m.\u001b[39mint32)\n\u001b[0;32m-> 7494\u001b[0m stat \u001b[38;5;241m=\u001b[39m \u001b[38;5;28;43mself\u001b[39;49m\u001b[38;5;241;43m.\u001b[39;49m\u001b[43m__run_windowed_stat\u001b[49m\u001b[43m(\u001b[49m\n\u001b[1;32m   7495\u001b[0m \u001b[43m    \u001b[49m\u001b[43mwindows\u001b[49m\u001b[43m,\u001b[49m\n\u001b[1;32m   7496\u001b[0m \u001b[43m    \u001b[49m\u001b[43mll_method\u001b[49m\u001b[43m,\u001b[49m\n\u001b[1;32m   7497\u001b[0m \u001b[43m    \u001b[49m\u001b[43msample_set_sizes\u001b[49m\u001b[43m,\u001b[49m\n\u001b[1;32m   7498\u001b[0m \u001b[43m    \u001b[49m\u001b[43mflattened\u001b[49m\u001b[43m,\u001b[49m\n\u001b[1;32m   7499\u001b[0m \u001b[43m    \u001b[49m\u001b[43mmode\u001b[49m\u001b[38;5;241;43m=\u001b[39;49m\u001b[43mmode\u001b[49m\u001b[43m,\u001b[49m\n\u001b[1;32m   7500\u001b[0m \u001b[43m    \u001b[49m\u001b[43mspan_normalise\u001b[49m\u001b[38;5;241;43m=\u001b[39;49m\u001b[43mspan_normalise\u001b[49m\u001b[43m,\u001b[49m\n\u001b[1;32m   7501\u001b[0m \u001b[43m    \u001b[49m\u001b[43mpolarised\u001b[49m\u001b[38;5;241;43m=\u001b[39;49m\u001b[43mpolarised\u001b[49m\u001b[43m,\u001b[49m\n\u001b[1;32m   7502\u001b[0m \u001b[43m\u001b[49m\u001b[43m)\u001b[49m\n\u001b[1;32m   7503\u001b[0m \u001b[38;5;28;01mif\u001b[39;00m drop_dimension:\n\u001b[1;32m   7504\u001b[0m     stat \u001b[38;5;241m=\u001b[39m stat\u001b[38;5;241m.\u001b[39mreshape(stat\u001b[38;5;241m.\u001b[39mshape[:\u001b[38;5;241m-\u001b[39m\u001b[38;5;241m1\u001b[39m])\n",
      "File \u001b[0;32m~/anaconda3/lib/python3.9/site-packages/tskit/trees.py:7456\u001b[0m, in \u001b[0;36mTreeSequence.__run_windowed_stat\u001b[0;34m(self, windows, method, *args, **kwargs)\u001b[0m\n\u001b[1;32m   7454\u001b[0m strip_dim \u001b[38;5;241m=\u001b[39m windows \u001b[38;5;129;01mis\u001b[39;00m \u001b[38;5;28;01mNone\u001b[39;00m\n\u001b[1;32m   7455\u001b[0m windows \u001b[38;5;241m=\u001b[39m \u001b[38;5;28mself\u001b[39m\u001b[38;5;241m.\u001b[39mparse_windows(windows)\n\u001b[0;32m-> 7456\u001b[0m stat \u001b[38;5;241m=\u001b[39m \u001b[43mmethod\u001b[49m\u001b[43m(\u001b[49m\u001b[38;5;241;43m*\u001b[39;49m\u001b[43margs\u001b[49m\u001b[43m,\u001b[49m\u001b[43m \u001b[49m\u001b[38;5;241;43m*\u001b[39;49m\u001b[38;5;241;43m*\u001b[39;49m\u001b[43mkwargs\u001b[49m\u001b[43m,\u001b[49m\u001b[43m \u001b[49m\u001b[43mwindows\u001b[49m\u001b[38;5;241;43m=\u001b[39;49m\u001b[43mwindows\u001b[49m\u001b[43m)\u001b[49m\n\u001b[1;32m   7457\u001b[0m \u001b[38;5;28;01mif\u001b[39;00m strip_dim:\n\u001b[1;32m   7458\u001b[0m     stat \u001b[38;5;241m=\u001b[39m stat[\u001b[38;5;241m0\u001b[39m]\n",
      "\u001b[0;31mKeyboardInterrupt\u001b[0m: "
     ]
    }
   ],
   "source": [
    "###### 有用 ， 找X2 快一点 ### 代替 tree 那个循环，到 while 结束后两行\n",
    "\n",
    "    mu_time = mts.tables.mutations.time\n",
    "    mu_site_id = mts.tables.mutations.site\n",
    "    mu_site = mts.tables.sites.position[mu_site_id]\n",
    "    mu_node = mts.tables.mutations.node\n",
    "    mufreq = numpy.zeros(len(mu_time))\n",
    "    rate_nomu = numpy.zeros( (len(seq_bp)-1)*(2*sam_size-1) )\n",
    "    rate_mu = numpy.zeros( (len(seq_bp)-1)*(2*sam_size-1) )\n",
    "    timevec_all = numpy.zeros( (len(seq_bp)-1)*(2*sam_size-1) )\n",
    "    current_rate_nomu = numpy.zeros(2*sam_size-1)\n",
    "    freqtime = mu_time \n",
    "    \n",
    "    mu_index = 0\n",
    "    for tree in mts.trees():\n",
    "        for each_mu in tree.mutations():\n",
    "            mufreq[mu_index] = tree.num_samples(each_mu.node)\n",
    "            mu_index = mu_index+1\n",
    "\n",
    "\n",
    "            \n",
    "    for i in range(2*sam_size-1):\n",
    "        current_time = mts.diversity(sample_sets=[[i,i+1]],windows=seq_bp,mode='branch',span_normalise=False).flatten()/2\n",
    "        current_rate_nomu = current_time*(seq_bp[1:]- seq_bp[0:(len(seq_bp)-1)])*2\n",
    "        timevec_all[ (i*(len(seq_bp)-1)):((i+1)*(len(seq_bp)-1))  ] = current_time\n",
    "        rate_nomu[ (i*(len(seq_bp)-1)):((i+1)*(len(seq_bp)-1)) ] =current_rate_nomu\n",
    "        rate_mu[ (i*(len(seq_bp)-1)):((i+1)*(len(seq_bp)-1)) ] = current_rate_nomu*mu_in_interval\n",
    "        \n",
    "        if i % 10 ==1:\n",
    "            print(i)\n",
    "        \n",
    "            \n",
    "            \n"
   ]
  },
  {
   "cell_type": "code",
   "execution_count": null,
   "id": "f03d25ad",
   "metadata": {},
   "outputs": [],
   "source": [
    "    sortindex = numpy.argsort(rate_mu)\n",
    "    rate_mu_sort = rate_mu[sortindex]\n",
    "    timevec_all_sort = timevec_all[sortindex]"
   ]
  },
  {
   "cell_type": "code",
   "execution_count": null,
   "id": "28287f37",
   "metadata": {},
   "outputs": [],
   "source": []
  },
  {
   "cell_type": "code",
   "execution_count": 32,
   "id": "ccde6543",
   "metadata": {},
   "outputs": [],
   "source": [
    "timevec_all_sort1 = numpy.array(timevec_all_sort)\n",
    "rate_mu_sort1=numpy.array(rate_mu_sort)"
   ]
  },
  {
   "cell_type": "code",
   "execution_count": 34,
   "id": "3791418b",
   "metadata": {},
   "outputs": [
    {
     "data": {
      "text/plain": [
       "19990"
      ]
     },
     "execution_count": 34,
     "metadata": {},
     "output_type": "execute_result"
    }
   ],
   "source": [
    "len(timevec_all_sort)"
   ]
  },
  {
   "cell_type": "code",
   "execution_count": 36,
   "id": "a77bed9e",
   "metadata": {},
   "outputs": [
    {
     "data": {
      "text/plain": [
       "array([1.00162028e-08, 9.92447675e-09, 1.00374365e-08, 9.99120103e-09,\n",
       "       1.00099194e-08, 9.97307805e-09, 1.00341765e-08, 9.93799304e-09,\n",
       "       9.93461196e-09, 1.01447333e-08])"
      ]
     },
     "execution_count": 36,
     "metadata": {},
     "output_type": "execute_result"
    }
   ],
   "source": [
    "mu_in_interval"
   ]
  },
  {
   "cell_type": "code",
   "execution_count": null,
   "id": "6fb7191a",
   "metadata": {},
   "outputs": [],
   "source": []
  },
  {
   "cell_type": "code",
   "execution_count": null,
   "id": "36735481",
   "metadata": {},
   "outputs": [],
   "source": []
  },
  {
   "cell_type": "code",
   "execution_count": 35,
   "id": "a8f83c97",
   "metadata": {},
   "outputs": [
    {
     "data": {
      "text/plain": [
       "array([0.00000000e+00, 9.98382342e+06, 2.00599214e+07, 3.00226245e+07,\n",
       "       4.00314313e+07, 5.00215217e+07, 6.00485163e+07, 7.00144562e+07,\n",
       "       8.00768500e+07, 9.01426685e+07, 1.00000000e+08])"
      ]
     },
     "execution_count": 35,
     "metadata": {},
     "output_type": "execute_result"
    }
   ],
   "source": [
    "seq_bp"
   ]
  },
  {
   "cell_type": "code",
   "execution_count": 41,
   "id": "d376f68d",
   "metadata": {},
   "outputs": [
    {
     "data": {
      "text/plain": [
       "array([2.02297240e+12, 2.05328227e+12, 2.03014534e+12, 2.08226101e+12,\n",
       "       1.81633339e+12, 2.03085435e+12, 1.91359365e+12, 2.03992344e+12,\n",
       "       2.00771724e+12, 1.80163635e+12])"
      ]
     },
     "execution_count": 41,
     "metadata": {},
     "output_type": "execute_result"
    }
   ],
   "source": [
    "mts.diversity(sample_sets= [[i,i+1]], windows=seq_bp, mode='branch', span_normalise=False).flatten()"
   ]
  },
  {
   "cell_type": "code",
   "execution_count": 38,
   "id": "25e0fe27",
   "metadata": {},
   "outputs": [
    {
     "data": {
      "text/plain": [
       "98"
      ]
     },
     "execution_count": 38,
     "metadata": {},
     "output_type": "execute_result"
    }
   ],
   "source": [
    "i"
   ]
  },
  {
   "cell_type": "code",
   "execution_count": 99,
   "id": "982c5dee",
   "metadata": {},
   "outputs": [
    {
     "data": {
      "text/plain": [
       "[13.758171700857496,\n",
       " 20.05974590290411,\n",
       " 26.391336210876783,\n",
       " 33.83169787896554,\n",
       " 42.585919201105426,\n",
       " 47.89767505038172,\n",
       " 48.2226136989075,\n",
       " 57.30477061280491,\n",
       " 89.03804353787976,\n",
       " 133.07214917087902,\n",
       " 313.97062722585963,\n",
       " 996.2969648277757,\n",
       " 4176.104830763975,\n",
       " 17911.75682180125,\n",
       " 86695.56234478696]"
      ]
     },
     "execution_count": 99,
     "metadata": {},
     "output_type": "execute_result"
    }
   ],
   "source": [
    "tcheck"
   ]
  },
  {
   "cell_type": "code",
   "execution_count": 132,
   "id": "22aa03ad",
   "metadata": {},
   "outputs": [
    {
     "name": "stdout",
     "output_type": "stream",
     "text": [
      "0.04000000000000001\n",
      "0.16000000000000003\n",
      "0.6400000000000001\n",
      "2.5600000000000005\n",
      "10.240000000000002\n",
      "40.96000000000001\n",
      "163.84000000000003\n",
      "655.3600000000001\n",
      "5446.44\n",
      "225625.0\n",
      "5760000.0\n",
      "144000000.0\n",
      "3600000000.0\n"
     ]
    }
   ],
   "source": [
    "for i in range(len(PXmat)):\n",
    "    print(  It_list[i+1]**2 )  \n"
   ]
  },
  {
   "cell_type": "code",
   "execution_count": 138,
   "id": "86d9dbdb",
   "metadata": {},
   "outputs": [
    {
     "name": "stdout",
     "output_type": "stream",
     "text": [
      "0.16000000000000003\n",
      "0.6400000000000001\n",
      "2.5600000000000005\n",
      "10.240000000000002\n",
      "40.96000000000001\n",
      "163.84000000000003\n",
      "655.3600000000001\n",
      "5446.44\n",
      "225625.0\n",
      "5760000.0\n",
      "144000000.0\n",
      "3600000000.0\n",
      "2503247300689.6743\n"
     ]
    }
   ],
   "source": [
    "for i in range(len(PXmat)):\n",
    "    print(  It_list[i+2]**2 )"
   ]
  },
  {
   "cell_type": "code",
   "execution_count": 136,
   "id": "53bd0341",
   "metadata": {},
   "outputs": [
    {
     "name": "stdout",
     "output_type": "stream",
     "text": [
      "0.04000000000000001\n",
      "0.16000000000000003\n",
      "0.6400000000000001\n",
      "2.5600000000000005\n",
      "10.240000000000002\n",
      "40.96000000000001\n",
      "163.84000000000003\n",
      "655.3600000000001\n",
      "5446.44\n",
      "225625.0\n",
      "5760000.0\n",
      "144000000.0\n",
      "3600000000.0\n"
     ]
    }
   ],
   "source": [
    "for i in range(len(PXmat)):\n",
    "    print(  It_list[i+1]**2 )"
   ]
  },
  {
   "cell_type": "code",
   "execution_count": 154,
   "id": "dd636ad2",
   "metadata": {},
   "outputs": [],
   "source": [
    "    tildetcheck = [0.2,0.4,0.8,1.6,3.2,6.4,12.8,25.6,51.2,102.4,512,2560,12800,64000]"
   ]
  },
  {
   "cell_type": "code",
   "execution_count": 30,
   "id": "f4d00ac6",
   "metadata": {},
   "outputs": [
    {
     "name": "stdout",
     "output_type": "stream",
     "text": [
      "0.4873397172404482\n",
      "0.9682458365518543\n",
      "1.9364916731037085\n",
      "3.872983346207417\n",
      "7.745966692414834\n",
      "15.482247898803326\n",
      "11.97914855071094\n",
      "23.80126047082381\n",
      "62.35783832045495\n",
      "124.74694385034049\n",
      "366.8312875284586\n"
     ]
    }
   ],
   "source": [
    "for i in range(len(PXmat)):\n",
    "    print(numpy.sqrt(0.5*It_list[i] + 0.5*It_list[i+2] + It_list[i+1]) )"
   ]
  },
  {
   "cell_type": "code",
   "execution_count": 28,
   "id": "5954ba14",
   "metadata": {},
   "outputs": [
    {
     "name": "stdout",
     "output_type": "stream",
     "text": [
      "0.0056250000000000015\n",
      "0.09000000000000002\n",
      "1.4400000000000004\n",
      "23.040000000000006\n",
      "368.6400000000001\n",
      "5898.240000000002\n",
      "94003.56000000001\n",
      "162409.0\n",
      "2664729.7600000002\n",
      "24159191.040000007\n",
      "386547056.6400001\n"
     ]
    }
   ],
   "source": [
    "for i in range(len(PXmat)):\n",
    "    print(It_list[i+1]**2)"
   ]
  },
  {
   "cell_type": "code",
   "execution_count": 35,
   "id": "7b365bb1",
   "metadata": {},
   "outputs": [
    {
     "data": {
      "text/plain": [
       "2.005181347150259"
      ]
     },
     "execution_count": 35,
     "metadata": {},
     "output_type": "execute_result"
    }
   ],
   "source": [
    "3.87/1.93"
   ]
  },
  {
   "cell_type": "code",
   "execution_count": 26,
   "id": "44aa7fce",
   "metadata": {},
   "outputs": [
    {
     "data": {
      "text/plain": [
       "1.4255319148936172"
      ]
     },
     "execution_count": 26,
     "metadata": {},
     "output_type": "execute_result"
    }
   ],
   "source": [
    "1.34/0.94"
   ]
  },
  {
   "cell_type": "code",
   "execution_count": 27,
   "id": "fd673816",
   "metadata": {},
   "outputs": [
    {
     "data": {
      "text/plain": [
       "0.35714285714285715"
      ]
     },
     "execution_count": 27,
     "metadata": {},
     "output_type": "execute_result"
    }
   ],
   "source": [
    "1/1.4/2"
   ]
  },
  {
   "cell_type": "code",
   "execution_count": 30,
   "id": "c96d1696",
   "metadata": {},
   "outputs": [
    {
     "data": {
      "text/plain": [
       "0.00390625"
      ]
     },
     "execution_count": 30,
     "metadata": {},
     "output_type": "execute_result"
    }
   ],
   "source": [
    "0.25/2**6"
   ]
  },
  {
   "cell_type": "code",
   "execution_count": 35,
   "id": "51f22feb",
   "metadata": {},
   "outputs": [
    {
     "data": {
      "text/plain": [
       "1.3227513227513228"
      ]
     },
     "execution_count": 35,
     "metadata": {},
     "output_type": "execute_result"
    }
   ],
   "source": [
    "2.5/1.89"
   ]
  },
  {
   "cell_type": "code",
   "execution_count": 7,
   "id": "f873c3ee",
   "metadata": {},
   "outputs": [
    {
     "data": {
      "text/plain": [
       "0.0013717421124828531"
      ]
     },
     "execution_count": 7,
     "metadata": {},
     "output_type": "execute_result"
    }
   ],
   "source": [
    "1/3**6"
   ]
  },
  {
   "cell_type": "code",
   "execution_count": 8,
   "id": "b65bf704",
   "metadata": {},
   "outputs": [
    {
     "data": {
      "text/plain": [
       "0.002075161072342307"
      ]
     },
     "execution_count": 8,
     "metadata": {},
     "output_type": "execute_result"
    }
   ],
   "source": [
    "1/2.8**6"
   ]
  },
  {
   "cell_type": "code",
   "execution_count": null,
   "id": "06fbaadc",
   "metadata": {},
   "outputs": [],
   "source": []
  },
  {
   "cell_type": "code",
   "execution_count": null,
   "id": "6f6d2bdf",
   "metadata": {},
   "outputs": [],
   "source": []
  },
  {
   "cell_type": "code",
   "execution_count": null,
   "id": "0f78d7dd",
   "metadata": {},
   "outputs": [],
   "source": []
  },
  {
   "cell_type": "code",
   "execution_count": 10,
   "id": "39f28247",
   "metadata": {},
   "outputs": [
    {
     "data": {
      "text/plain": [
       "(0.0, 50.0)"
      ]
     },
     "execution_count": 10,
     "metadata": {},
     "output_type": "execute_result"
    },
    {
     "data": {
      "image/png": "[encoded data removed]",
      "text/plain": [
       "<Figure size 432x288 with 1 Axes>"
      ]
     },
     "metadata": {
      "needs_background": "light"
     },
     "output_type": "display_data"
    }
   ],
   "source": [
    "import statistics\n",
    "import msprime\n",
    "from IPython.display import SVG, display\n",
    "import tsinfer\n",
    "import scipy\n",
    "import math\n",
    "import numpy\n",
    "import tskit\n",
    "import io\n",
    "import builtins\n",
    "import sys\n",
    "from tqdm.notebook import tqdm\n",
    "from tskit import MISSING_DATA\n",
    "import pickle\n",
    "import random\n",
    "from sklearn.linear_model import LinearRegression\n",
    "from sklearn.linear_model import Lasso\n",
    "from sklearn.linear_model import LassoCV\n",
    "from sklearn.linear_model import LassoLarsIC\n",
    "import matplotlib.pyplot as plt\n",
    "import cvxopt as opt\n",
    "from cvxopt import matrix, spmatrix, sparse\n",
    "from cvxopt.solvers import qp, options\n",
    "from cvxopt import blas\n",
    "from cvxopt import spdiag\n",
    "import statsmodels\n",
    "from statsmodels.nonparametric.kernel_regression import KernelReg\n",
    "from scipy.signal import savgol_filter\n",
    "import bisect\n",
    "\n",
    "def find_s_s(elem, sorted_list):\n",
    "    'Locate the leftmost value smaller or equal to x'\n",
    "    i = bisect.bisect_left(sorted_list, elem)\n",
    "    if i != 0:\n",
    "        return i\n",
    "    else:\n",
    "        return 0\n",
    "    \n",
    "def ISE(x_points, invest,Nt, model):\n",
    "    ISE = 0\n",
    "    for i in range(len(x_points)-1):\n",
    "        true_y = model[1][  min(find_s_s(x_points[i],model[0]),len(model[1])-1 ) ]\n",
    "        est_y = Nt[  min(find_s_s(x_points[i], invest),len(Nt)-1 ) ]\n",
    "        ISE = ISE + (x_points[i+1]-x_points[i])*(true_y-est_y)**2 \n",
    "    return(ISE)\n",
    "\n",
    "\n",
    "\n",
    "\n",
    "x1 = numpy.linspace(0.1,200,200)\n",
    "x2 = numpy.linspace(205,50000,500)\n",
    "x = numpy.array(x1.tolist()+x2.tolist())\n",
    "\n",
    "y = numpy.zeros(len(x))\n",
    "\n",
    "for i in range(len(x)):\n",
    "    if x[i] <= 25:\n",
    "        y[i] = 1500000*2*numpy.exp(-0.2*x[i])\n",
    "    else:\n",
    "        y[i] = 1500000*2*numpy.exp(-0.2*25)\n",
    "\n",
    "M8 = [numpy.array(x),numpy.array(y)]\n",
    "plt.plot(M8[0],M8[1])\n",
    "plt.xlim(0,50)"
   ]
  },
  {
   "cell_type": "code",
   "execution_count": 11,
   "id": "0bec483b",
   "metadata": {},
   "outputs": [
    {
     "name": "stdout",
     "output_type": "stream",
     "text": [
      "RMISE 69.0\n",
      "CI [63.1  90.89]\n"
     ]
    }
   ],
   "source": [
    "\n",
    "\n",
    "\n",
    "\n",
    "model = M8\n",
    "\n",
    "name = \"Model8_lam5_Ntlist_approach12.dat\"\n",
    "file = open(name,\"rb\") \n",
    "Ntlist = pickle.load(file)\n",
    "file.close()\n",
    "\n",
    "name = \"Model8_lam5_investlist__approach12.dat\"\n",
    "file = open(name,\"rb\") \n",
    "investlist = pickle.load(file)\n",
    "file.close()\n",
    "\n",
    "ISE_list = []\n",
    "x_points = numpy.linspace(0,50,100)\n",
    "\n",
    "for i in range(len(Ntlist)):\n",
    "    tpoint = [0]\n",
    "    Npoint = []\n",
    "    for j in range(len(investlist[i])):\n",
    "        if j % 2 == 1:\n",
    "            tpoint.append(investlist[i][j])\n",
    "    for j in range(len(Ntlist[i])):\n",
    "        if j % 2 == 1:\n",
    "            Npoint.append(Ntlist[i][j])\n",
    "\n",
    "    pxpoint = [0] \n",
    "    pypoint = [Npoint[0]]\n",
    "    for j in range(len(tpoint)-1):\n",
    "        pxpoint.append( (tpoint[j] + tpoint[j+1])/2 )\n",
    "        pypoint.append( Npoint[j] )\n",
    "\n",
    "    xp_dense = numpy.arange(0,max(pxpoint))\n",
    "    yp_dense = numpy.arange(0,max(pxpoint))\n",
    "    \n",
    "    for k in range(1,len(xp_dense)-1):\n",
    "        ind = find_s_s(xp_dense[k],pxpoint)\n",
    "        firstx = pxpoint[ind-1]\n",
    "        secondx = pxpoint[ind]\n",
    "        firsty = pypoint[ind-1]\n",
    "        secondy = pypoint[ind]\n",
    "        yp_dense[k] = firsty + (secondy-firsty)/(secondx-firstx)*(xp_dense[k]-firstx)\n",
    "        \n",
    "        \n",
    "    investlist[i] = xp_dense\n",
    "    Ntlist[i] = yp_dense\n",
    "    \n",
    "    \n",
    "num=0\n",
    "for i in range(len(Ntlist)):\n",
    "    num=num+1\n",
    "    invest=investlist[i]\n",
    "    Nt = Ntlist[i]\n",
    "    ISE_list.append(ISE(x_points, invest,Nt, model))\n",
    "\n",
    "MISE = sum(numpy.array(ISE_list))/num\n",
    "RMISE = numpy.sqrt(MISE)\n",
    "CI = numpy.sqrt(  (numpy.sort(ISE_list)[numpy.array([0,-1])] - MISE)/numpy.sqrt(num) + MISE   )\n",
    "\n",
    "print(\"RMISE\", numpy.round(RMISE/10**5,2))\n",
    "print(\"CI\", numpy.round(CI/10**5,2))\n",
    "\n",
    "    "
   ]
  },
  {
   "cell_type": "code",
   "execution_count": 26,
   "id": "59f3d447",
   "metadata": {},
   "outputs": [
    {
     "name": "stderr",
     "output_type": "stream",
     "text": [
      "/tmp/ipykernel_210390/2576180624.py:1: RuntimeWarning: divide by zero encountered in log\n",
      "  plt.plot(investlist[0],numpy.log(Ntlist[0])/numpy.log(10) )\n"
     ]
    },
    {
     "data": {
      "text/plain": [
       "[<matplotlib.lines.Line2D at 0x7f61772afb50>]"
      ]
     },
     "execution_count": 26,
     "metadata": {},
     "output_type": "execute_result"
    },
    {
     "data": {
      "image/png": "[encoded data removed]",
      "text/plain": [
       "<Figure size 432x288 with 1 Axes>"
      ]
     },
     "metadata": {
      "needs_background": "light"
     },
     "output_type": "display_data"
    }
   ],
   "source": [
    "plt.plot(investlist[0],numpy.log(Ntlist[0])/numpy.log(10) )\n",
    "\n",
    "plt.ylim(3,7)\n",
    "plt.xlim(0,50)\n",
    "\n",
    "x1 = numpy.linspace(0.1,200,200)\n",
    "x2 = numpy.linspace(205,50000,500)\n",
    "x = numpy.array(x1.tolist()+x2.tolist())\n",
    "\n",
    "y = numpy.zeros(len(x))\n",
    "\n",
    "for i in range(len(x)):\n",
    "    if x[i] <= 25:\n",
    "        y[i] = 1500000*2*numpy.exp(-0.2*x[i])\n",
    "    else:\n",
    "        y[i] = 1500000*2*numpy.exp(-0.2*25)\n",
    "\n",
    "        \n",
    "plt.plot(x,numpy.log(y)/numpy.log(10),'k--')"
   ]
  },
  {
   "cell_type": "code",
   "execution_count": null,
   "id": "98bf62e4",
   "metadata": {},
   "outputs": [],
   "source": [
    "lam 5       rmise 65.48     bic  3300 3800 3900 2700 \n",
    "lam=10 最好 rmise 70.78   bic: 3100 3800 4500 3500\n",
    "lam=20  rmise 70.97   bic: 3400 3800 3900 3500\n"
   ]
  }
 ],
 "metadata": {
  "kernelspec": {
   "display_name": "Python 3 (ipykernel)",
   "language": "python",
   "name": "python3"
  },
  "language_info": {
   "codemirror_mode": {
    "name": "ipython",
    "version": 3
   },
   "file_extension": ".py",
   "mimetype": "text/x-python",
   "name": "python",
   "nbconvert_exporter": "python",
   "pygments_lexer": "ipython3",
   "version": "3.12.3"
  }
 },
 "nbformat": 4,
 "nbformat_minor": 5
}
